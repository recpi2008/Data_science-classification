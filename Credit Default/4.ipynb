{
 "cells": [
  {
   "cell_type": "code",
   "execution_count": null,
   "metadata": {},
   "outputs": [],
   "source": [
    "# df_q['Annual Income'] = df_q['Annual Income'].interpolate(method='linear')"
   ]
  },
  {
   "cell_type": "code",
   "execution_count": 1,
   "metadata": {},
   "outputs": [],
   "source": [
    "import pandas as pd\n",
    "import numpy as np\n",
    "import pickle\n",
    "from pathlib import Path\n",
    "\n",
    "from sklearn.model_selection import train_test_split, ShuffleSplit, cross_val_score, learning_curve\n",
    "from sklearn.metrics import classification_report, f1_score, precision_score, recall_score\n",
    "from sklearn.model_selection import StratifiedKFold, GridSearchCV, RandomizedSearchCV\n",
    "\n",
    "from sklearn.linear_model import LogisticRegression, LogisticRegressionCV\n",
    "from sklearn.svm import SVC\n",
    "import xgboost as xgb\n",
    "import catboost as catb\n",
    "\n",
    "import seaborn as sns\n",
    "from matplotlib import pyplot as plt\n",
    "%matplotlib inline\n",
    "\n",
    "import warnings\n",
    "warnings.filterwarnings('ignore')"
   ]
  },
  {
   "cell_type": "code",
   "execution_count": 2,
   "metadata": {},
   "outputs": [],
   "source": [
    "def get_classification_report(y_train_true, y_train_pred, y_test_true, y_test_pred):\n",
    "    print('TRAIN\\n\\n' + classification_report(y_train_true, y_train_pred))\n",
    "    print('TEST\\n\\n' + classification_report(y_test_true, y_test_pred))\n",
    "    print('CONFUSION MATRIX\\n')\n",
    "    print(pd.crosstab(y_test_true, y_test_pred))"
   ]
  },
  {
   "cell_type": "code",
   "execution_count": 3,
   "metadata": {},
   "outputs": [],
   "source": [
    "def evaluate_preds(model, X_train, X_test, y_train, y_test):\n",
    "    y_train_pred = model.predict(X_train)\n",
    "    y_test_pred = model.predict(X_test)\n",
    "\n",
    "    get_classification_report(y_train, y_train_pred, y_test, y_test_pred)"
   ]
  },
  {
   "cell_type": "code",
   "execution_count": 4,
   "metadata": {},
   "outputs": [],
   "source": [
    "def show_proba_calibration_plots(y_predicted_probs, y_true_labels):\n",
    "    preds_with_true_labels = np.array(list(zip(y_predicted_probs, y_true_labels)))\n",
    "\n",
    "    thresholds = []\n",
    "    precisions = []\n",
    "    recalls = []\n",
    "    f1_scores = []\n",
    "\n",
    "    for threshold in np.linspace(0.1, 0.9, 9):\n",
    "        thresholds.append(threshold)\n",
    "        precisions.append(precision_score(y_true_labels, list(map(int, y_predicted_probs > threshold))))\n",
    "        recalls.append(recall_score(y_true_labels, list(map(int, y_predicted_probs > threshold))))\n",
    "        f1_scores.append(f1_score(y_true_labels, list(map(int, y_predicted_probs > threshold))))\n",
    "\n",
    "    scores_table = pd.DataFrame({'f1':f1_scores,\n",
    "                                 'precision':precisions,\n",
    "                                 'recall':recalls,\n",
    "                                 'probability':thresholds}).sort_values('f1', ascending=False).round(3)\n",
    "  \n",
    "    figure = plt.figure(figsize = (15, 5))\n",
    "\n",
    "    plt1 = figure.add_subplot(121)\n",
    "    plt1.plot(thresholds, precisions, label='Precision', linewidth=4)\n",
    "    plt1.plot(thresholds, recalls, label='Recall', linewidth=4)\n",
    "    plt1.plot(thresholds, f1_scores, label='F1', linewidth=4)\n",
    "    plt1.set_ylabel('Scores')\n",
    "    plt1.set_xlabel('Probability threshold')\n",
    "    plt1.set_title('Probabilities threshold calibration')\n",
    "    plt1.legend(bbox_to_anchor=(0.25, 0.25))   \n",
    "    plt1.table(cellText = scores_table.values,\n",
    "               colLabels = scores_table.columns, \n",
    "               colLoc = 'center', cellLoc = 'center', loc = 'bottom', bbox = [0, -1.3, 1, 1])\n",
    "\n",
    "    plt2 = figure.add_subplot(122)\n",
    "    plt2.hist(preds_with_true_labels[preds_with_true_labels[:, 1] == 0][:, 0], \n",
    "              label='Another class', color='royalblue', alpha=1)\n",
    "    plt2.hist(preds_with_true_labels[preds_with_true_labels[:, 1] == 1][:, 0], \n",
    "              label='Main class', color='darkcyan', alpha=0.8)\n",
    "    plt2.set_ylabel('Number of examples')\n",
    "    plt2.set_xlabel('Probabilities')\n",
    "    plt2.set_title('Probability histogram')\n",
    "    plt2.legend(bbox_to_anchor=(1, 1))\n",
    "\n",
    "    plt.show()"
   ]
  },
  {
   "cell_type": "code",
   "execution_count": 5,
   "metadata": {},
   "outputs": [],
   "source": [
    "def show_learning_curve_plot(estimator, X, y, cv=3, n_jobs=-1, train_sizes=np.linspace(.1, 1.0, 5)):\n",
    "\n",
    "    train_sizes, train_scores, test_scores = learning_curve(estimator, X, y, \n",
    "                                                            cv=cv, \n",
    "                                                            scoring='f1',\n",
    "                                                            train_sizes=train_sizes, \n",
    "                                                            n_jobs=n_jobs)\n",
    "    train_scores_mean = np.mean(train_scores, axis=1)\n",
    "    train_scores_std = np.std(train_scores, axis=1)\n",
    "    test_scores_mean = np.mean(test_scores, axis=1)\n",
    "    test_scores_std = np.std(test_scores, axis=1)\n",
    "\n",
    "    plt.figure(figsize=(15,8))\n",
    "    plt.fill_between(train_sizes, train_scores_mean - train_scores_std,\n",
    "                     train_scores_mean + train_scores_std, alpha=0.1, color=\"r\")\n",
    "    plt.fill_between(train_sizes, test_scores_mean - test_scores_std,\n",
    "                     test_scores_mean + test_scores_std, alpha=0.1, color=\"g\")\n",
    "    plt.plot(train_sizes, train_scores_mean, 'o-', color=\"r\",\n",
    "             label=\"Training score\")\n",
    "    plt.plot(train_sizes, test_scores_mean, 'o-', color=\"g\",\n",
    "             label=\"Cross-validation score\")\n",
    "\n",
    "    plt.title(f\"Learning curves ({type(estimator).__name__})\")\n",
    "    plt.xlabel(\"Training examples\")\n",
    "    plt.ylabel(\"Score\")     \n",
    "    plt.legend(loc=\"best\")\n",
    "    plt.grid()\n",
    "    plt.show()"
   ]
  },
  {
   "cell_type": "code",
   "execution_count": 6,
   "metadata": {},
   "outputs": [],
   "source": [
    "def show_feature_importances(feature_names, feature_importances, get_top=None):\n",
    "    feature_importances = pd.DataFrame({'feature': feature_names, 'importance': feature_importances})\n",
    "    feature_importances = feature_importances.sort_values('importance', ascending=False)\n",
    "       \n",
    "    plt.figure(figsize = (20, len(feature_importances) * 0.355))\n",
    "    \n",
    "    sns.barplot(feature_importances['importance'], feature_importances['feature'])\n",
    "    \n",
    "    plt.xlabel('Importance')\n",
    "    plt.title('Importance of features')\n",
    "    plt.show()\n",
    "    \n",
    "    if get_top is not None:\n",
    "        return feature_importances['feature'][:get_top].tolist()"
   ]
  },
  {
   "cell_type": "code",
   "execution_count": 7,
   "metadata": {},
   "outputs": [],
   "source": [
    "def balance_df_by_target(df, target_name, method='over'):\n",
    "\n",
    "    assert method in ['over', 'under', 'tomek', 'smote'], 'Неверный метод сэмплирования'\n",
    "    \n",
    "    target_counts = df[target_name].value_counts()\n",
    "\n",
    "    major_class_name = target_counts.argmax()\n",
    "    minor_class_name = target_counts.argmin()\n",
    "\n",
    "    disbalance_coeff = int(target_counts[major_class_name] / target_counts[minor_class_name]) - 1\n",
    "    if method == 'over':\n",
    "        for i in range(disbalance_coeff):\n",
    "            sample = df[df[target_name] == minor_class_name].sample(target_counts[minor_class_name])\n",
    "            df = df.append(sample, ignore_index=True)\n",
    "            \n",
    "    elif method == 'under':\n",
    "        df_ = df.copy()\n",
    "        df = df_[df_[target_name] == minor_class_name]\n",
    "        tmp = df_[df_[target_name] == major_class_name]\n",
    "        df = df.append(tmp.iloc[\n",
    "            np.random.randint(0, tmp.shape[0], target_counts[minor_class_name])\n",
    "        ], ignore_index=True)\n",
    "\n",
    "    elif method == 'tomek':\n",
    "        from imblearn.under_sampling import TomekLinks\n",
    "        tl = TomekLinks()\n",
    "        X_tomek, y_tomek = tl.fit_sample(df.drop(columns=target_name), df[target_name])\n",
    "        df = pd.concat([X_tomek, y_tomek], axis=1)\n",
    "    \n",
    "    elif method == 'smote':\n",
    "        from imblearn.over_sampling import SMOTE\n",
    "        smote = SMOTE()\n",
    "        X_smote, y_smote = smote.fit_sample(df.drop(columns=target_name), df[target_name])\n",
    "        df = pd.concat([X_smote, y_smote], axis=1)\n",
    "\n",
    "    return df.sample(frac=1) "
   ]
  },
  {
   "cell_type": "markdown",
   "metadata": {},
   "source": [
    "## Paths to directories and files "
   ]
  },
  {
   "cell_type": "code",
   "execution_count": 69,
   "metadata": {},
   "outputs": [],
   "source": [
    "from pathlib import Path\n",
    "\n",
    "DATA_ROOT = Path('./data/training_project/')\n",
    "MODELS_PATH = Path('./models/')\n",
    "\n",
    "# input\n",
    "DATASET_PATH = DATA_ROOT / 'train.csv'\n",
    "TEST_DATASET_PATH = DATA_ROOT / 'test.csv'\n",
    "\n",
    "PREP_DATASET_PATH = DATA_ROOT / 'training_project_data_prep.csv'\n",
    "PREP_TEST_DATASET_PATH = DATA_ROOT / 'final_project_data_prep.csv'\n",
    "\n",
    "\n",
    "# output\n",
    "TRAIN_FULL_PATH = DATA_ROOT / 'training_project_train_full.csv'\n",
    "FINAL_FULL_PATH = DATA_ROOT / 'final_norm_full.csv'\n",
    "TRAIN_PART_PATH = DATA_ROOT / 'training_project_train_part_b.csv'\n",
    "TEST_PART_PATH = DATA_ROOT / 'training_project_test_part.csv'\n",
    "\n",
    "SCALER_FILE_PATH = MODELS_PATH / 'scaler.pkl'\n",
    "MODEL_FILE_PATH = MODELS_PATH / 'model.pkl'"
   ]
  },
  {
   "cell_type": "markdown",
   "metadata": {},
   "source": [
    "## Loading prepared datasets"
   ]
  },
  {
   "cell_type": "markdown",
   "metadata": {},
   "source": [
    "### Loading data"
   ]
  },
  {
   "cell_type": "code",
   "execution_count": 9,
   "metadata": {},
   "outputs": [],
   "source": [
    "df_base = pd.read_csv(DATASET_PATH)\n",
    "\n",
    "df = pd.read_csv(TRAIN_FULL_PATH)\n",
    "df_train = pd.read_csv(TRAIN_PART_PATH)\n",
    "df_test = pd.read_csv(TEST_PART_PATH)"
   ]
  },
  {
   "cell_type": "markdown",
   "metadata": {},
   "source": [
    "### Isolation of the indicative description and the target variable"
   ]
  },
  {
   "cell_type": "code",
   "execution_count": 10,
   "metadata": {},
   "outputs": [],
   "source": [
    "TARGET_NAME = 'Credit Default'\n",
    "BASE_FEATURE_NAMES = df_base.columns.drop([TARGET_NAME,'Months since last delinquent']).tolist()\n",
    "NEW_FEATURE_NAMES = df.columns.drop([TARGET_NAME] + BASE_FEATURE_NAMES).tolist()\n",
    "\n",
    "NUM_FEATURE_NAMES = ['Annual Income','Number of Open Accounts','Years of Credit History',\\\n",
    "       'Maximum Open Credit','Number of Credit Problems','Current Loan Amount','Years in current job',\\\n",
    "                     'Current Credit Balance', 'Monthly Debt','Credit Score']\n",
    "\n",
    "CAT_FEATURE_NAMES = ['Home Ownership','Tax Liens','Bankruptcies', 'Purpose','Term']\n",
    "CAT_FEATURE_NAMES_U = ['Bankruptcies']\n",
    "\n",
    "SELECTED_FEATURE_NAMES = NUM_FEATURE_NAMES + CAT_FEATURE_NAMES_U + NEW_FEATURE_NAMES"
   ]
  },
  {
   "cell_type": "code",
   "execution_count": 11,
   "metadata": {},
   "outputs": [],
   "source": [
    "X = df.drop(columns=[TARGET_NAME] + CAT_FEATURE_NAMES)\n",
    "y = df[TARGET_NAME]\n",
    "\n",
    "X_train = df_train.drop(columns=[TARGET_NAME])\n",
    "y_train = df_train[TARGET_NAME]\n",
    "\n",
    "X_test = df_test.drop(columns=[TARGET_NAME])\n",
    "y_test = df_test[TARGET_NAME]"
   ]
  },
  {
   "cell_type": "code",
   "execution_count": 12,
   "metadata": {},
   "outputs": [
    {
     "name": "stderr",
     "output_type": "stream",
     "text": [
      "Exception ignored on calling ctypes callback function: <function _ThreadpoolInfo._find_modules_with_dl_iterate_phdr.<locals>.match_module_callback at 0x7ffb4bb75430>\n",
      "Traceback (most recent call last):\n",
      "  File \"/home/recpi/anaconda3/lib/python3.8/site-packages/threadpoolctl.py\", line 400, in match_module_callback\n",
      "    self._make_module_from_path(filepath)\n",
      "  File \"/home/recpi/anaconda3/lib/python3.8/site-packages/threadpoolctl.py\", line 515, in _make_module_from_path\n",
      "    module = module_class(filepath, prefix, user_api, internal_api)\n",
      "  File \"/home/recpi/anaconda3/lib/python3.8/site-packages/threadpoolctl.py\", line 606, in __init__\n",
      "    self.version = self.get_version()\n",
      "  File \"/home/recpi/anaconda3/lib/python3.8/site-packages/threadpoolctl.py\", line 646, in get_version\n",
      "    config = get_config().split()\n",
      "AttributeError: 'NoneType' object has no attribute 'split'\n"
     ]
    },
    {
     "data": {
      "text/plain": [
       "1    3771\n",
       "0    3771\n",
       "Name: Credit Default, dtype: int64"
      ]
     },
     "execution_count": 12,
     "metadata": {},
     "output_type": "execute_result"
    }
   ],
   "source": [
    "df_for_balancing = pd.concat([X_train, y_train], axis=1)\n",
    "df_balanced = balance_df_by_target(df_for_balancing, TARGET_NAME, method='smote')\n",
    "    \n",
    "df_balanced[TARGET_NAME].value_counts()"
   ]
  },
  {
   "cell_type": "code",
   "execution_count": 13,
   "metadata": {},
   "outputs": [],
   "source": [
    "X_train_balanced = df_balanced.drop(columns=TARGET_NAME)\n",
    "y_train_balanced = df_balanced[TARGET_NAME]"
   ]
  },
  {
   "cell_type": "markdown",
   "metadata": {},
   "source": [
    "## Filling gaps/outliers through the model"
   ]
  },
  {
   "cell_type": "code",
   "execution_count": 14,
   "metadata": {},
   "outputs": [
    {
     "data": {
      "image/png": "[encoded data removed]",
      "text/plain": [
       "<Figure size 1152x1152 with 12 Axes>"
      ]
     },
     "metadata": {
      "needs_background": "light"
     },
     "output_type": "display_data"
    }
   ],
   "source": [
    "df[NUM_FEATURE_NAMES].hist(figsize=(16, 16), bins=20, grid=False);"
   ]
  },
  {
   "cell_type": "code",
   "execution_count": 15,
   "metadata": {},
   "outputs": [],
   "source": [
    "df_copy = df.copy()\n",
    "df_test_copy = df_test.copy()"
   ]
  },
  {
   "cell_type": "code",
   "execution_count": 16,
   "metadata": {},
   "outputs": [
    {
     "data": {
      "text/plain": [
       "0"
      ]
     },
     "execution_count": 16,
     "metadata": {},
     "output_type": "execute_result"
    }
   ],
   "source": [
    "df_copy.isna().sum().sum()"
   ]
  },
  {
   "cell_type": "code",
   "execution_count": 17,
   "metadata": {},
   "outputs": [],
   "source": [
    "from sklearn.ensemble import RandomForestRegressor\n",
    "from sklearn.metrics import r2_score\n",
    "from sklearn.metrics import f1_score\n",
    "from sklearn.metrics import precision_score\n",
    "from sklearn.metrics import recall_score\n",
    "from sklearn.preprocessing import StandardScaler\n",
    "\n",
    "\n",
    "def imputer_rfr(data, target_col):\n",
    "    data = data.copy()\n",
    "    \n",
    "    features = data.columns\n",
    "    \n",
    "    data = data[features]\n",
    "    \n",
    "    train = data[~data[target_col].isna()]\n",
    "    predict_data = data[data[target_col].isna()]\n",
    "\n",
    "    X = train.drop(columns=target_col)\n",
    "    y = train[target_col]\n",
    "    \n",
    "    X_train, X_test, y_train, y_test = train_test_split(X, y,\n",
    "                                                        test_size=0.2,\n",
    "                                                        shuffle=True,\n",
    "                                                        random_state=32)\n",
    "    \n",
    "    model = RandomForestRegressor(n_estimators=100,\n",
    "                                  max_depth=5,\n",
    "                                  random_state=42,\n",
    "                                  verbose=1)\n",
    "    model.fit(X_train, y_train)\n",
    "    \n",
    "    pred_train = model.predict(X_train)\n",
    "    pred_test = model.predict(X_test)\n",
    "    \n",
    "    print(f\"r2 на train: {r2_score(y_train, pred_train)}\")\n",
    "    print(f\"r2 на test: {r2_score(y_test, pred_test)}\")\n",
    "\n",
    "    pred = model.predict(predict_data.drop(columns=target_col))\n",
    "\n",
    "    data.loc[data[target_col].isna(), target_col] = list(pred)\n",
    "    return model, data"
   ]
  },
  {
   "cell_type": "markdown",
   "metadata": {},
   "source": [
    "### 'Annual Income'"
   ]
  },
  {
   "cell_type": "code",
   "execution_count": 18,
   "metadata": {},
   "outputs": [
    {
     "data": {
      "text/plain": [
       "137"
      ]
     },
     "execution_count": 18,
     "metadata": {},
     "output_type": "execute_result"
    }
   ],
   "source": [
    "def preprocess_outlier(df, col, threshold):\n",
    "    # can be cut by threshold, or by quantiles\n",
    "    df.loc[df[col] > threshold, col] = np.nan\n",
    "    return df\n",
    "\n",
    "feature_name = 'Annual Income'\n",
    "df_copy = preprocess_outlier(df_copy, feature_name, threshold=3)\n",
    "df_test_copy = preprocess_outlier(df_test_copy, feature_name, threshold=3)\n",
    "\n",
    "df_copy[feature_name].isna().sum()"
   ]
  },
  {
   "cell_type": "code",
   "execution_count": 19,
   "metadata": {},
   "outputs": [
    {
     "name": "stderr",
     "output_type": "stream",
     "text": [
      "[Parallel(n_jobs=1)]: Using backend SequentialBackend with 1 concurrent workers.\n"
     ]
    },
    {
     "name": "stdout",
     "output_type": "stream",
     "text": [
      "r2 на train: 0.47181950041606113\n",
      "r2 на test: 0.4530558301549039\n",
      "CPU times: user 21.6 s, sys: 29.3 ms, total: 21.7 s\n",
      "Wall time: 21.7 s\n"
     ]
    },
    {
     "name": "stderr",
     "output_type": "stream",
     "text": [
      "[Parallel(n_jobs=1)]: Done 100 out of 100 | elapsed:   21.5s finished\n",
      "[Parallel(n_jobs=1)]: Using backend SequentialBackend with 1 concurrent workers.\n",
      "[Parallel(n_jobs=1)]: Done 100 out of 100 | elapsed:    0.0s finished\n",
      "[Parallel(n_jobs=1)]: Using backend SequentialBackend with 1 concurrent workers.\n",
      "[Parallel(n_jobs=1)]: Done 100 out of 100 | elapsed:    0.0s finished\n",
      "[Parallel(n_jobs=1)]: Using backend SequentialBackend with 1 concurrent workers.\n",
      "[Parallel(n_jobs=1)]: Done 100 out of 100 | elapsed:    0.0s finished\n"
     ]
    }
   ],
   "source": [
    "%%time\n",
    "bill_amt1_predictor, df_copy = imputer_rfr(df_copy, feature_name)"
   ]
  },
  {
   "cell_type": "code",
   "execution_count": 20,
   "metadata": {},
   "outputs": [
    {
     "data": {
      "text/plain": [
       "0"
      ]
     },
     "execution_count": 20,
     "metadata": {},
     "output_type": "execute_result"
    }
   ],
   "source": [
    "df_copy[feature_name].isna().sum()"
   ]
  },
  {
   "cell_type": "code",
   "execution_count": 21,
   "metadata": {},
   "outputs": [
    {
     "data": {
      "image/png": "[encoded data removed]",
      "text/plain": [
       "<Figure size 432x288 with 1 Axes>"
      ]
     },
     "metadata": {
      "needs_background": "light"
     },
     "output_type": "display_data"
    }
   ],
   "source": [
    "df_copy[feature_name].hist();"
   ]
  },
  {
   "cell_type": "markdown",
   "metadata": {},
   "source": [
    "### 'Monthly Debt'"
   ]
  },
  {
   "cell_type": "code",
   "execution_count": 22,
   "metadata": {},
   "outputs": [
    {
     "data": {
      "image/png": "[encoded data removed]",
      "text/plain": [
       "<Figure size 432x288 with 1 Axes>"
      ]
     },
     "metadata": {
      "needs_background": "light"
     },
     "output_type": "display_data"
    }
   ],
   "source": [
    "feature_name = 'Monthly Debt'\n",
    "df_copy[feature_name].hist();"
   ]
  },
  {
   "cell_type": "code",
   "execution_count": 23,
   "metadata": {},
   "outputs": [
    {
     "data": {
      "text/plain": [
       "37"
      ]
     },
     "execution_count": 23,
     "metadata": {},
     "output_type": "execute_result"
    }
   ],
   "source": [
    "df_copy = preprocess_outlier(df_copy, feature_name, threshold=4)\n",
    "df_test_copy = preprocess_outlier(df_test_copy, feature_name, threshold=4)\n",
    "\n",
    "df_copy[feature_name].isna().sum()"
   ]
  },
  {
   "cell_type": "code",
   "execution_count": 24,
   "metadata": {},
   "outputs": [
    {
     "name": "stderr",
     "output_type": "stream",
     "text": [
      "[Parallel(n_jobs=1)]: Using backend SequentialBackend with 1 concurrent workers.\n"
     ]
    },
    {
     "name": "stdout",
     "output_type": "stream",
     "text": [
      "r2 на train: 0.5338783307135879\n",
      "r2 на test: 0.48475521593725845\n"
     ]
    },
    {
     "name": "stderr",
     "output_type": "stream",
     "text": [
      "[Parallel(n_jobs=1)]: Done 100 out of 100 | elapsed:   23.5s finished\n",
      "[Parallel(n_jobs=1)]: Using backend SequentialBackend with 1 concurrent workers.\n",
      "[Parallel(n_jobs=1)]: Done 100 out of 100 | elapsed:    0.1s finished\n",
      "[Parallel(n_jobs=1)]: Using backend SequentialBackend with 1 concurrent workers.\n",
      "[Parallel(n_jobs=1)]: Done 100 out of 100 | elapsed:    0.0s finished\n",
      "[Parallel(n_jobs=1)]: Using backend SequentialBackend with 1 concurrent workers.\n",
      "[Parallel(n_jobs=1)]: Done 100 out of 100 | elapsed:    0.0s finished\n"
     ]
    }
   ],
   "source": [
    "monthly_debt_predictor, df_copy = imputer_rfr(df_copy, feature_name)"
   ]
  },
  {
   "cell_type": "code",
   "execution_count": 25,
   "metadata": {},
   "outputs": [
    {
     "data": {
      "text/plain": [
       "0"
      ]
     },
     "execution_count": 25,
     "metadata": {},
     "output_type": "execute_result"
    }
   ],
   "source": [
    "df_copy[feature_name].isna().sum()"
   ]
  },
  {
   "cell_type": "code",
   "execution_count": 26,
   "metadata": {},
   "outputs": [
    {
     "data": {
      "image/png": "[encoded data removed]",
      "text/plain": [
       "<Figure size 432x288 with 1 Axes>"
      ]
     },
     "metadata": {
      "needs_background": "light"
     },
     "output_type": "display_data"
    }
   ],
   "source": [
    "df_copy[feature_name].hist();"
   ]
  },
  {
   "cell_type": "markdown",
   "metadata": {},
   "source": [
    "### 'Current Credit Balance'"
   ]
  },
  {
   "cell_type": "code",
   "execution_count": 27,
   "metadata": {},
   "outputs": [
    {
     "data": {
      "image/png": "[encoded data removed]",
      "text/plain": [
       "<Figure size 432x288 with 1 Axes>"
      ]
     },
     "metadata": {
      "needs_background": "light"
     },
     "output_type": "display_data"
    }
   ],
   "source": [
    "feature_name = 'Current Credit Balance'\n",
    "df_copy[feature_name].hist();"
   ]
  },
  {
   "cell_type": "code",
   "execution_count": 28,
   "metadata": {},
   "outputs": [
    {
     "data": {
      "text/plain": [
       "110"
      ]
     },
     "execution_count": 28,
     "metadata": {},
     "output_type": "execute_result"
    }
   ],
   "source": [
    "df_copy = preprocess_outlier(df_copy, feature_name, threshold=3)\n",
    "df_test_copy = preprocess_outlier(df_test_copy, feature_name, threshold=3)\n",
    "\n",
    "df_copy[feature_name].isna().sum()"
   ]
  },
  {
   "cell_type": "code",
   "execution_count": 29,
   "metadata": {},
   "outputs": [
    {
     "name": "stderr",
     "output_type": "stream",
     "text": [
      "[Parallel(n_jobs=1)]: Using backend SequentialBackend with 1 concurrent workers.\n"
     ]
    },
    {
     "name": "stdout",
     "output_type": "stream",
     "text": [
      "r2 на train: 0.7101412941236216\n",
      "r2 на test: 0.6894162647843101\n"
     ]
    },
    {
     "name": "stderr",
     "output_type": "stream",
     "text": [
      "[Parallel(n_jobs=1)]: Done 100 out of 100 | elapsed:   21.5s finished\n",
      "[Parallel(n_jobs=1)]: Using backend SequentialBackend with 1 concurrent workers.\n",
      "[Parallel(n_jobs=1)]: Done 100 out of 100 | elapsed:    0.1s finished\n",
      "[Parallel(n_jobs=1)]: Using backend SequentialBackend with 1 concurrent workers.\n",
      "[Parallel(n_jobs=1)]: Done 100 out of 100 | elapsed:    0.0s finished\n",
      "[Parallel(n_jobs=1)]: Using backend SequentialBackend with 1 concurrent workers.\n",
      "[Parallel(n_jobs=1)]: Done 100 out of 100 | elapsed:    0.0s finished\n"
     ]
    }
   ],
   "source": [
    "current_credit_balance_predictor, df_copy = imputer_rfr(df_copy, feature_name)"
   ]
  },
  {
   "cell_type": "code",
   "execution_count": 30,
   "metadata": {},
   "outputs": [
    {
     "data": {
      "text/plain": [
       "0"
      ]
     },
     "execution_count": 30,
     "metadata": {},
     "output_type": "execute_result"
    }
   ],
   "source": [
    "df_copy[feature_name].isna().sum()"
   ]
  },
  {
   "cell_type": "code",
   "execution_count": 31,
   "metadata": {},
   "outputs": [
    {
     "data": {
      "image/png": "[encoded data removed]",
      "text/plain": [
       "<Figure size 432x288 with 1 Axes>"
      ]
     },
     "metadata": {
      "needs_background": "light"
     },
     "output_type": "display_data"
    }
   ],
   "source": [
    "df_copy[feature_name].hist();"
   ]
  },
  {
   "cell_type": "markdown",
   "metadata": {},
   "source": [
    "## Regularization"
   ]
  },
  {
   "cell_type": "markdown",
   "metadata": {},
   "source": [
    "### Logistic Regression"
   ]
  },
  {
   "cell_type": "code",
   "execution_count": 32,
   "metadata": {},
   "outputs": [
    {
     "name": "stdout",
     "output_type": "stream",
     "text": [
      "TRAIN\n",
      "\n",
      "              precision    recall  f1-score   support\n",
      "\n",
      "           0       0.67      0.74      0.70      3771\n",
      "           1       0.71      0.63      0.67      3771\n",
      "\n",
      "    accuracy                           0.69      7542\n",
      "   macro avg       0.69      0.69      0.69      7542\n",
      "weighted avg       0.69      0.69      0.69      7542\n",
      "\n",
      "TEST\n",
      "\n",
      "              precision    recall  f1-score   support\n",
      "\n",
      "           0       0.82      0.73      0.77      1616\n",
      "           1       0.46      0.59      0.52       634\n",
      "\n",
      "    accuracy                           0.69      2250\n",
      "   macro avg       0.64      0.66      0.64      2250\n",
      "weighted avg       0.72      0.69      0.70      2250\n",
      "\n",
      "CONFUSION MATRIX\n",
      "\n",
      "col_0              0    1\n",
      "Credit Default           \n",
      "0               1178  438\n",
      "1                261  373\n"
     ]
    },
    {
     "data": {
      "text/plain": [
       "(array([0.43231718]), -0.09906019382811816)"
      ]
     },
     "execution_count": 32,
     "metadata": {},
     "output_type": "execute_result"
    }
   ],
   "source": [
    "model_lr = LogisticRegression(C=0.01,\n",
    "                              max_iter=10\n",
    "                              )\n",
    "model_lr.fit(X_train_balanced, y_train_balanced)\n",
    "\n",
    "evaluate_preds(model_lr, X_train_balanced, X_test, y_train_balanced, y_test)\n",
    "model_lr.intercept_, model_lr.coef_.mean()"
   ]
  },
  {
   "cell_type": "code",
   "execution_count": 33,
   "metadata": {},
   "outputs": [],
   "source": [
    "cv = StratifiedKFold(n_splits=3, random_state=21, shuffle=True)"
   ]
  },
  {
   "cell_type": "code",
   "execution_count": 34,
   "metadata": {},
   "outputs": [
    {
     "name": "stdout",
     "output_type": "stream",
     "text": [
      "TRAIN\n",
      "\n",
      "              precision    recall  f1-score   support\n",
      "\n",
      "           0       0.68      0.72      0.70      3771\n",
      "           1       0.71      0.66      0.68      3771\n",
      "\n",
      "    accuracy                           0.69      7542\n",
      "   macro avg       0.69      0.69      0.69      7542\n",
      "weighted avg       0.69      0.69      0.69      7542\n",
      "\n",
      "TEST\n",
      "\n",
      "              precision    recall  f1-score   support\n",
      "\n",
      "           0       0.82      0.71      0.76      1616\n",
      "           1       0.45      0.61      0.52       634\n",
      "\n",
      "    accuracy                           0.68      2250\n",
      "   macro avg       0.63      0.66      0.64      2250\n",
      "weighted avg       0.72      0.68      0.69      2250\n",
      "\n",
      "CONFUSION MATRIX\n",
      "\n",
      "col_0              0    1\n",
      "Credit Default           \n",
      "0               1143  473\n",
      "1                250  384\n",
      "CPU times: user 666 ms, sys: 1.19 s, total: 1.86 s\n",
      "Wall time: 292 ms\n"
     ]
    }
   ],
   "source": [
    "%%time\n",
    "model_lr_cv = LogisticRegressionCV(max_iter=4,\n",
    "                                   scoring='f1_macro',\n",
    "                                   cv=cv, Cs=[0.001,0.01,0.1], #[0.001,0.01,0.1]\n",
    "                                   )\n",
    "model_lr_cv.fit(X_train_balanced, y_train_balanced)\n",
    "\n",
    "evaluate_preds(model_lr_cv, X_train_balanced, X_test, y_train_balanced, y_test)"
   ]
  },
  {
   "cell_type": "code",
   "execution_count": 35,
   "metadata": {},
   "outputs": [
    {
     "data": {
      "text/plain": [
       "array([0.001, 0.01 , 0.1  ])"
      ]
     },
     "execution_count": 35,
     "metadata": {},
     "output_type": "execute_result"
    }
   ],
   "source": [
    "model_lr_cv.Cs_"
   ]
  },
  {
   "cell_type": "code",
   "execution_count": 36,
   "metadata": {},
   "outputs": [
    {
     "data": {
      "text/plain": [
       "array([0.1])"
      ]
     },
     "execution_count": 36,
     "metadata": {},
     "output_type": "execute_result"
    }
   ],
   "source": [
    "model_lr_cv.C_"
   ]
  },
  {
   "cell_type": "markdown",
   "metadata": {},
   "source": [
    "### Support Vector Machine"
   ]
  },
  {
   "cell_type": "code",
   "execution_count": 37,
   "metadata": {},
   "outputs": [
    {
     "name": "stdout",
     "output_type": "stream",
     "text": [
      "TRAIN\n",
      "\n",
      "              precision    recall  f1-score   support\n",
      "\n",
      "           0       0.63      0.84      0.72      3771\n",
      "           1       0.76      0.52      0.61      3771\n",
      "\n",
      "    accuracy                           0.68      7542\n",
      "   macro avg       0.70      0.68      0.67      7542\n",
      "weighted avg       0.70      0.68      0.67      7542\n",
      "\n",
      "TEST\n",
      "\n",
      "              precision    recall  f1-score   support\n",
      "\n",
      "           0       0.80      0.82      0.81      1616\n",
      "           1       0.52      0.48      0.50       634\n",
      "\n",
      "    accuracy                           0.73      2250\n",
      "   macro avg       0.66      0.65      0.66      2250\n",
      "weighted avg       0.72      0.73      0.72      2250\n",
      "\n",
      "CONFUSION MATRIX\n",
      "\n",
      "col_0              0    1\n",
      "Credit Default           \n",
      "0               1331  285\n",
      "1                328  306\n",
      "CPU times: user 9.71 s, sys: 188 ms, total: 9.89 s\n",
      "Wall time: 9.83 s\n"
     ]
    }
   ],
   "source": [
    "%%time\n",
    "model_svc = SVC(C=0.05,\n",
    "                kernel='rbf'\n",
    "                )\n",
    "model_svc.fit(X_train_balanced, y_train_balanced)\n",
    "\n",
    "evaluate_preds(model_svc, X_train_balanced, X_test, y_train_balanced, y_test)"
   ]
  },
  {
   "cell_type": "code",
   "execution_count": 38,
   "metadata": {},
   "outputs": [
    {
     "name": "stdout",
     "output_type": "stream",
     "text": [
      "TRAIN\n",
      "\n",
      "              precision    recall  f1-score   support\n",
      "\n",
      "           0       0.69      0.73      0.71      3771\n",
      "           1       0.71      0.68      0.69      3771\n",
      "\n",
      "    accuracy                           0.70      7542\n",
      "   macro avg       0.70      0.70      0.70      7542\n",
      "weighted avg       0.70      0.70      0.70      7542\n",
      "\n",
      "TEST\n",
      "\n",
      "              precision    recall  f1-score   support\n",
      "\n",
      "           0       0.82      0.71      0.76      1616\n",
      "           1       0.45      0.59      0.51       634\n",
      "\n",
      "    accuracy                           0.68      2250\n",
      "   macro avg       0.63      0.65      0.63      2250\n",
      "weighted avg       0.71      0.68      0.69      2250\n",
      "\n",
      "CONFUSION MATRIX\n",
      "\n",
      "col_0              0    1\n",
      "Credit Default           \n",
      "0               1154  462\n",
      "1                261  373\n",
      "CPU times: user 5.38 s, sys: 67.2 ms, total: 5.44 s\n",
      "Wall time: 5.46 s\n"
     ]
    }
   ],
   "source": [
    "%%time\n",
    "model_svc = SVC(C=0.1,\n",
    "                kernel='poly',\n",
    "                degree=3\n",
    "                )\n",
    "model_svc.fit(X_train_balanced, y_train_balanced)\n",
    "\n",
    "evaluate_preds(model_svc, X_train_balanced, X_test, y_train_balanced, y_test)"
   ]
  },
  {
   "cell_type": "markdown",
   "metadata": {},
   "source": [
    "### XGBoost"
   ]
  },
  {
   "cell_type": "code",
   "execution_count": 39,
   "metadata": {},
   "outputs": [
    {
     "name": "stdout",
     "output_type": "stream",
     "text": [
      "TRAIN\n",
      "\n",
      "              precision    recall  f1-score   support\n",
      "\n",
      "           0       0.76      0.71      0.73      3771\n",
      "           1       0.73      0.77      0.75      3771\n",
      "\n",
      "    accuracy                           0.74      7542\n",
      "   macro avg       0.74      0.74      0.74      7542\n",
      "weighted avg       0.74      0.74      0.74      7542\n",
      "\n",
      "TEST\n",
      "\n",
      "              precision    recall  f1-score   support\n",
      "\n",
      "           0       0.83      0.69      0.76      1616\n",
      "           1       0.45      0.65      0.53       634\n",
      "\n",
      "    accuracy                           0.68      2250\n",
      "   macro avg       0.64      0.67      0.65      2250\n",
      "weighted avg       0.73      0.68      0.69      2250\n",
      "\n",
      "CONFUSION MATRIX\n",
      "\n",
      "col_0              0    1\n",
      "Credit Default           \n",
      "0               1123  493\n",
      "1                224  410\n"
     ]
    }
   ],
   "source": [
    "model_xgb = xgb.XGBClassifier(random_state=21, \n",
    "                              max_depth=1, \n",
    "                              )\n",
    "model_xgb.fit(X_train_balanced, y_train_balanced)\n",
    "\n",
    "evaluate_preds(model_xgb, X_train_balanced, X_test, y_train_balanced, y_test)"
   ]
  },
  {
   "cell_type": "code",
   "execution_count": 40,
   "metadata": {},
   "outputs": [],
   "source": [
    "params = {\n",
    "    'reg_lambda': [0.2, 0.5, 0.9, 1.3, 1.9, 3, 5, 10]\n",
    "}"
   ]
  },
  {
   "cell_type": "code",
   "execution_count": 41,
   "metadata": {},
   "outputs": [],
   "source": [
    "cv = StratifiedKFold(n_splits=3, random_state=21, shuffle=True)"
   ]
  },
  {
   "cell_type": "code",
   "execution_count": 42,
   "metadata": {},
   "outputs": [
    {
     "data": {
      "text/plain": [
       "{'reg_lambda': 1.9}"
      ]
     },
     "metadata": {},
     "output_type": "display_data"
    },
    {
     "data": {
      "text/plain": [
       "0.735222464252364"
      ]
     },
     "metadata": {},
     "output_type": "display_data"
    },
    {
     "name": "stdout",
     "output_type": "stream",
     "text": [
      "CPU times: user 1min 19s, sys: 786 ms, total: 1min 20s\n",
      "Wall time: 17.1 s\n"
     ]
    }
   ],
   "source": [
    "%%time\n",
    "grid_search = GridSearchCV(param_grid=params, estimator=model_xgb, cv=cv, verbose=0, scoring='f1')\n",
    "grid_search.fit(X_train_balanced, y_train_balanced)\n",
    "display(grid_search.best_params_, grid_search.best_score_)"
   ]
  },
  {
   "cell_type": "code",
   "execution_count": 43,
   "metadata": {},
   "outputs": [
    {
     "name": "stdout",
     "output_type": "stream",
     "text": [
      "TRAIN\n",
      "\n",
      "              precision    recall  f1-score   support\n",
      "\n",
      "           0       0.76      0.71      0.73      3771\n",
      "           1       0.73      0.77      0.75      3771\n",
      "\n",
      "    accuracy                           0.74      7542\n",
      "   macro avg       0.74      0.74      0.74      7542\n",
      "weighted avg       0.74      0.74      0.74      7542\n",
      "\n",
      "TEST\n",
      "\n",
      "              precision    recall  f1-score   support\n",
      "\n",
      "           0       0.83      0.69      0.76      1616\n",
      "           1       0.45      0.65      0.53       634\n",
      "\n",
      "    accuracy                           0.68      2250\n",
      "   macro avg       0.64      0.67      0.64      2250\n",
      "weighted avg       0.73      0.68      0.69      2250\n",
      "\n",
      "CONFUSION MATRIX\n",
      "\n",
      "col_0              0    1\n",
      "Credit Default           \n",
      "0               1121  495\n",
      "1                224  410\n"
     ]
    }
   ],
   "source": [
    "model_xgb = xgb.XGBClassifier(random_state=21, \n",
    "                              max_depth=1, \n",
    "                              reg_lambda=0.9\n",
    "                             )\n",
    "model_xgb.fit(X_train_balanced, y_train_balanced)\n",
    "\n",
    "evaluate_preds(model_xgb, X_train_balanced, X_test, y_train_balanced, y_test)\n"
   ]
  },
  {
   "cell_type": "markdown",
   "metadata": {},
   "source": [
    "## Selection of the optimal sample size, learning curve"
   ]
  },
  {
   "cell_type": "code",
   "execution_count": 44,
   "metadata": {},
   "outputs": [
    {
     "name": "stdout",
     "output_type": "stream",
     "text": [
      "def show_learning_curve_plot(estimator, X, y, cv=3, n_jobs=-1, train_sizes=np.linspace(.1, 1.0, 5)):\n",
      "\n",
      "    train_sizes, train_scores, test_scores = learning_curve(estimator, X, y, \n",
      "                                                            cv=cv, \n",
      "                                                            scoring='f1',\n",
      "                                                            train_sizes=train_sizes, \n",
      "                                                            n_jobs=n_jobs)\n",
      "    train_scores_mean = np.mean(train_scores, axis=1)\n",
      "    train_scores_std = np.std(train_scores, axis=1)\n",
      "    test_scores_mean = np.mean(test_scores, axis=1)\n",
      "    test_scores_std = np.std(test_scores, axis=1)\n",
      "\n",
      "    plt.figure(figsize=(15,8))\n",
      "    plt.fill_between(train_sizes, train_scores_mean - train_scores_std,\n",
      "                     train_scores_mean + train_scores_std, alpha=0.1, color=\"r\")\n",
      "    plt.fill_between(train_sizes, test_scores_mean - test_scores_std,\n",
      "                     test_scores_mean + test_scores_std, alpha=0.1, color=\"g\")\n",
      "    plt.plot(train_sizes, train_scores_mean, 'o-', color=\"r\",\n",
      "             label=\"Training score\")\n",
      "    plt.plot(train_sizes, test_scores_mean, 'o-', color=\"g\",\n",
      "             label=\"Cross-validation score\")\n",
      "\n",
      "    plt.title(f\"Learning curves ({type(estimator).__name__})\")\n",
      "    plt.xlabel(\"Training examples\")\n",
      "    plt.ylabel(\"Score\")     \n",
      "    plt.legend(loc=\"best\")\n",
      "    plt.grid()\n",
      "    plt.show()\n",
      "\n"
     ]
    }
   ],
   "source": [
    "import inspect\n",
    "print(inspect.getsource(show_learning_curve_plot))"
   ]
  },
  {
   "cell_type": "code",
   "execution_count": 45,
   "metadata": {},
   "outputs": [
    {
     "data": {
      "text/plain": [
       "array([0.1  , 0.325, 0.55 , 0.775, 1.   ])"
      ]
     },
     "execution_count": 45,
     "metadata": {},
     "output_type": "execute_result"
    }
   ],
   "source": [
    "np.linspace(.1, 1.0, 5)"
   ]
  },
  {
   "cell_type": "code",
   "execution_count": 46,
   "metadata": {},
   "outputs": [
    {
     "data": {
      "image/png": "[encoded data removed]",
      "text/plain": [
       "<Figure size 1080x576 with 1 Axes>"
      ]
     },
     "metadata": {
      "needs_background": "light"
     },
     "output_type": "display_data"
    }
   ],
   "source": [
    "show_learning_curve_plot(model_xgb, X_train_balanced, y_train_balanced)"
   ]
  },
  {
   "cell_type": "markdown",
   "metadata": {},
   "source": [
    "### Choosing a probability threshold for class definition"
   ]
  },
  {
   "cell_type": "code",
   "execution_count": 47,
   "metadata": {},
   "outputs": [
    {
     "data": {
      "text/plain": [
       "array([[0.8424731 , 0.15752691],\n",
       "       [0.45094162, 0.5490584 ],\n",
       "       [0.6716577 , 0.32834235],\n",
       "       ...,\n",
       "       [0.99814683, 0.0018532 ],\n",
       "       [0.69111764, 0.30888236],\n",
       "       [0.48145032, 0.5185497 ]], dtype=float32)"
      ]
     },
     "execution_count": 47,
     "metadata": {},
     "output_type": "execute_result"
    }
   ],
   "source": [
    "y_test_pred_probs = model_xgb.predict_proba(X_test)\n",
    "y_test_pred_probs"
   ]
  },
  {
   "cell_type": "code",
   "execution_count": 48,
   "metadata": {},
   "outputs": [
    {
     "name": "stdout",
     "output_type": "stream",
     "text": [
      "def show_proba_calibration_plots(y_predicted_probs, y_true_labels):\n",
      "    preds_with_true_labels = np.array(list(zip(y_predicted_probs, y_true_labels)))\n",
      "\n",
      "    thresholds = []\n",
      "    precisions = []\n",
      "    recalls = []\n",
      "    f1_scores = []\n",
      "\n",
      "    for threshold in np.linspace(0.1, 0.9, 9):\n",
      "        thresholds.append(threshold)\n",
      "        precisions.append(precision_score(y_true_labels, list(map(int, y_predicted_probs > threshold))))\n",
      "        recalls.append(recall_score(y_true_labels, list(map(int, y_predicted_probs > threshold))))\n",
      "        f1_scores.append(f1_score(y_true_labels, list(map(int, y_predicted_probs > threshold))))\n",
      "\n",
      "    scores_table = pd.DataFrame({'f1':f1_scores,\n",
      "                                 'precision':precisions,\n",
      "                                 'recall':recalls,\n",
      "                                 'probability':thresholds}).sort_values('f1', ascending=False).round(3)\n",
      "  \n",
      "    figure = plt.figure(figsize = (15, 5))\n",
      "\n",
      "    plt1 = figure.add_subplot(121)\n",
      "    plt1.plot(thresholds, precisions, label='Precision', linewidth=4)\n",
      "    plt1.plot(thresholds, recalls, label='Recall', linewidth=4)\n",
      "    plt1.plot(thresholds, f1_scores, label='F1', linewidth=4)\n",
      "    plt1.set_ylabel('Scores')\n",
      "    plt1.set_xlabel('Probability threshold')\n",
      "    plt1.set_title('Probabilities threshold calibration')\n",
      "    plt1.legend(bbox_to_anchor=(0.25, 0.25))   \n",
      "    plt1.table(cellText = scores_table.values,\n",
      "               colLabels = scores_table.columns, \n",
      "               colLoc = 'center', cellLoc = 'center', loc = 'bottom', bbox = [0, -1.3, 1, 1])\n",
      "\n",
      "    plt2 = figure.add_subplot(122)\n",
      "    plt2.hist(preds_with_true_labels[preds_with_true_labels[:, 1] == 0][:, 0], \n",
      "              label='Another class', color='royalblue', alpha=1)\n",
      "    plt2.hist(preds_with_true_labels[preds_with_true_labels[:, 1] == 1][:, 0], \n",
      "              label='Main class', color='darkcyan', alpha=0.8)\n",
      "    plt2.set_ylabel('Number of examples')\n",
      "    plt2.set_xlabel('Probabilities')\n",
      "    plt2.set_title('Probability histogram')\n",
      "    plt2.legend(bbox_to_anchor=(1, 1))\n",
      "\n",
      "    plt.show()\n",
      "\n"
     ]
    }
   ],
   "source": [
    "print(inspect.getsource(show_proba_calibration_plots))"
   ]
  },
  {
   "cell_type": "code",
   "execution_count": 49,
   "metadata": {},
   "outputs": [
    {
     "data": {
      "image/png": "[encoded data removed]",
      "text/plain": [
       "<Figure size 1080x360 with 2 Axes>"
      ]
     },
     "metadata": {
      "needs_background": "light"
     },
     "output_type": "display_data"
    }
   ],
   "source": [
    "show_proba_calibration_plots(y_test_pred_probs[:, 1], y_test)"
   ]
  },
  {
   "cell_type": "markdown",
   "metadata": {},
   "source": [
    "## Feature Importance"
   ]
  },
  {
   "cell_type": "code",
   "execution_count": 54,
   "metadata": {},
   "outputs": [
    {
     "name": "stdout",
     "output_type": "stream",
     "text": [
      "def show_feature_importances(feature_names, feature_importances, get_top=None):\n",
      "    feature_importances = pd.DataFrame({'feature': feature_names, 'importance': feature_importances})\n",
      "    feature_importances = feature_importances.sort_values('importance', ascending=False)\n",
      "       \n",
      "    plt.figure(figsize = (20, len(feature_importances) * 0.355))\n",
      "    \n",
      "    sns.barplot(feature_importances['importance'], feature_importances['feature'])\n",
      "    \n",
      "    plt.xlabel('Importance')\n",
      "    plt.title('Importance of features')\n",
      "    plt.show()\n",
      "    \n",
      "    if get_top is not None:\n",
      "        return feature_importances['feature'][:get_top].tolist()\n",
      "\n"
     ]
    }
   ],
   "source": [
    "print(inspect.getsource(show_feature_importances))"
   ]
  },
  {
   "cell_type": "code",
   "execution_count": 65,
   "metadata": {},
   "outputs": [
    {
     "data": {
      "image/png": "[encoded data removed]",
      "text/plain": [
       "<Figure size 1440x485.64 with 1 Axes>"
      ]
     },
     "metadata": {
      "needs_background": "light"
     },
     "output_type": "display_data"
    }
   ],
   "source": [
    "important_features_top = show_feature_importances(X_train_balanced.columns,\n",
    "                                                  model_xgb.feature_importances_, get_top=15)"
   ]
  },
  {
   "cell_type": "code",
   "execution_count": 66,
   "metadata": {},
   "outputs": [
    {
     "data": {
      "text/plain": [
       "['Term_2',\n",
       " 'Credit Score',\n",
       " 'Current Loan Amount',\n",
       " 'Annual Income',\n",
       " 'Home Ownership_1',\n",
       " 'Years in current job',\n",
       " 'Monthly Debt',\n",
       " 'Number of Open Accounts',\n",
       " 'Number of Credit Problems',\n",
       " 'Current Credit Balance',\n",
       " 'Purpose_2',\n",
       " 'Purpose_0',\n",
       " 'Maximum Open Credit',\n",
       " 'Years of Credit History',\n",
       " 'Home Ownership_3']"
      ]
     },
     "execution_count": 66,
     "metadata": {},
     "output_type": "execute_result"
    }
   ],
   "source": [
    "important_features_top"
   ]
  },
  {
   "cell_type": "markdown",
   "metadata": {},
   "source": [
    "## Final model"
   ]
  },
  {
   "cell_type": "code",
   "execution_count": 67,
   "metadata": {},
   "outputs": [
    {
     "name": "stdout",
     "output_type": "stream",
     "text": [
      "TRAIN\n",
      "\n",
      "              precision    recall  f1-score   support\n",
      "\n",
      "           0       0.75      0.71      0.73      3771\n",
      "           1       0.72      0.77      0.75      3771\n",
      "\n",
      "    accuracy                           0.74      7542\n",
      "   macro avg       0.74      0.74      0.74      7542\n",
      "weighted avg       0.74      0.74      0.74      7542\n",
      "\n",
      "TEST\n",
      "\n",
      "              precision    recall  f1-score   support\n",
      "\n",
      "           0       0.83      0.68      0.75      1616\n",
      "           1       0.44      0.64      0.53       634\n",
      "\n",
      "    accuracy                           0.67      2250\n",
      "   macro avg       0.64      0.66      0.64      2250\n",
      "weighted avg       0.72      0.67      0.69      2250\n",
      "\n",
      "CONFUSION MATRIX\n",
      "\n",
      "col_0              0    1\n",
      "Credit Default           \n",
      "0               1104  512\n",
      "1                226  408\n"
     ]
    }
   ],
   "source": [
    "final_xgb = xgb.XGBClassifier(random_state=21, \n",
    "                              max_depth=1, \n",
    "                              reg_lambda=10\n",
    "                              )\n",
    "final_xgb.fit(X_train_balanced[important_features_top], y_train_balanced)\n",
    "\n",
    "evaluate_preds(final_xgb,\n",
    "               X_train_balanced[important_features_top],\n",
    "               X_test[important_features_top],\n",
    "               y_train_balanced,\n",
    "               y_test)"
   ]
  },
  {
   "cell_type": "markdown",
   "metadata": {},
   "source": [
    "## Saving the final model"
   ]
  },
  {
   "cell_type": "code",
   "execution_count": 70,
   "metadata": {},
   "outputs": [],
   "source": [
    "with open(MODEL_FILE_PATH, 'wb') as file:\n",
    "    pickle.dump(final_xgb, file)"
   ]
  },
  {
   "cell_type": "markdown",
   "metadata": {},
   "source": [
    "## Catboost"
   ]
  },
  {
   "cell_type": "code",
   "execution_count": 85,
   "metadata": {},
   "outputs": [],
   "source": [
    "X = df[BASE_FEATURE_NAMES]\n",
    "y = df[TARGET_NAME]\n",
    "\n",
    "X_train, X_test, y_train, y_test = train_test_split(X, y,\n",
    "                                                    shuffle=True,\n",
    "                                                    test_size=0.3,\n",
    "                                                    random_state=21,\n",
    "                                                    stratify=y)"
   ]
  },
  {
   "cell_type": "code",
   "execution_count": 87,
   "metadata": {},
   "outputs": [
    {
     "data": {
      "text/plain": [
       "2.5496957403651117"
      ]
     },
     "execution_count": 87,
     "metadata": {},
     "output_type": "execute_result"
    }
   ],
   "source": [
    "disbalance = y_train.value_counts()[0] / y_train.value_counts()[1]\n",
    "disbalance"
   ]
  },
  {
   "cell_type": "code",
   "execution_count": 88,
   "metadata": {},
   "outputs": [],
   "source": [
    "frozen_params = {\n",
    "     'class_weights':[1, disbalance], \n",
    "     'silent':True,\n",
    "     'random_state':21,\n",
    "     'cat_features':CAT_FEATURE_NAMES,\n",
    "     'eval_metric':'F1',\n",
    "     'early_stopping_rounds':20\n",
    "}"
   ]
  },
  {
   "cell_type": "code",
   "execution_count": 89,
   "metadata": {},
   "outputs": [
    {
     "data": {
      "application/vnd.jupyter.widget-view+json": {
       "model_id": "f801339da3d2487190d9f8383497f28f",
       "version_major": 2,
       "version_minor": 0
      },
      "text/plain": [
       "MetricVisualizer(layout=Layout(align_self='stretch', height='500px'))"
      ]
     },
     "metadata": {},
     "output_type": "display_data"
    },
    {
     "name": "stdout",
     "output_type": "stream",
     "text": [
      "TRAIN\n",
      "\n",
      "              precision    recall  f1-score   support\n",
      "\n",
      "           0       0.86      0.78      0.82      3771\n",
      "           1       0.55      0.68      0.61      1479\n",
      "\n",
      "    accuracy                           0.75      5250\n",
      "   macro avg       0.70      0.73      0.71      5250\n",
      "weighted avg       0.77      0.75      0.76      5250\n",
      "\n",
      "TEST\n",
      "\n",
      "              precision    recall  f1-score   support\n",
      "\n",
      "           0       0.83      0.75      0.79      1616\n",
      "           1       0.48      0.59      0.53       634\n",
      "\n",
      "    accuracy                           0.71      2250\n",
      "   macro avg       0.65      0.67      0.66      2250\n",
      "weighted avg       0.73      0.71      0.71      2250\n",
      "\n",
      "CONFUSION MATRIX\n",
      "\n",
      "col_0              0    1\n",
      "Credit Default           \n",
      "0               1212  404\n",
      "1                257  377\n",
      "CPU times: user 1.74 s, sys: 274 ms, total: 2.02 s\n",
      "Wall time: 565 ms\n"
     ]
    }
   ],
   "source": [
    "%%time\n",
    "\n",
    "model_catb = catb.CatBoostClassifier(**frozen_params, iterations=300, max_depth=7)\n",
    "model_catb.fit(X_train, y_train, plot=True, eval_set=(X_test, y_test))\n",
    "\n",
    "evaluate_preds(model_catb, X_train, X_test, y_train, y_test)"
   ]
  },
  {
   "cell_type": "markdown",
   "metadata": {},
   "source": [
    "### Reducing the degree of overfitting"
   ]
  },
  {
   "cell_type": "code",
   "execution_count": 90,
   "metadata": {},
   "outputs": [
    {
     "data": {
      "application/vnd.jupyter.widget-view+json": {
       "model_id": "d2ce92f9978b4c8b941a000714794933",
       "version_major": 2,
       "version_minor": 0
      },
      "text/plain": [
       "MetricVisualizer(layout=Layout(align_self='stretch', height='500px'))"
      ]
     },
     "metadata": {},
     "output_type": "display_data"
    },
    {
     "name": "stdout",
     "output_type": "stream",
     "text": [
      "TRAIN\n",
      "\n",
      "              precision    recall  f1-score   support\n",
      "\n",
      "           0       0.83      0.76      0.79      3771\n",
      "           1       0.49      0.59      0.54      1479\n",
      "\n",
      "    accuracy                           0.71      5250\n",
      "   macro avg       0.66      0.68      0.67      5250\n",
      "weighted avg       0.73      0.71      0.72      5250\n",
      "\n",
      "TEST\n",
      "\n",
      "              precision    recall  f1-score   support\n",
      "\n",
      "           0       0.82      0.74      0.78      1616\n",
      "           1       0.47      0.58      0.52       634\n",
      "\n",
      "    accuracy                           0.69      2250\n",
      "   macro avg       0.64      0.66      0.65      2250\n",
      "weighted avg       0.72      0.69      0.70      2250\n",
      "\n",
      "CONFUSION MATRIX\n",
      "\n",
      "col_0              0    1\n",
      "Credit Default           \n",
      "0               1195  421\n",
      "1                267  367\n"
     ]
    }
   ],
   "source": [
    "model = catb.CatBoostClassifier(**frozen_params,\n",
    "                                iterations=300,\n",
    "                                max_depth=7, \n",
    "#                                 l2_leaf_reg=.5,\n",
    "                                reg_lambda=0.5\n",
    "                                )\n",
    "\n",
    "model.fit(X_train, y_train, plot=True, eval_set=(X_test, y_test))\n",
    "\n",
    "evaluate_preds(model, X_train, X_test, y_train, y_test)"
   ]
  },
  {
   "cell_type": "code",
   "execution_count": 91,
   "metadata": {},
   "outputs": [],
   "source": [
    "params = {\n",
    "    'reg_lambda': np.linspace(0.1, 4, 80)\n",
    "}"
   ]
  },
  {
   "cell_type": "code",
   "execution_count": 92,
   "metadata": {},
   "outputs": [],
   "source": [
    "model = catb.CatBoostClassifier(**frozen_params,\n",
    "                                iterations=300,\n",
    "                                max_depth=7)"
   ]
  },
  {
   "cell_type": "code",
   "execution_count": 93,
   "metadata": {},
   "outputs": [],
   "source": [
    "cv = StratifiedKFold(n_splits=3, random_state=21, shuffle=True)"
   ]
  },
  {
   "cell_type": "code",
   "execution_count": 94,
   "metadata": {},
   "outputs": [
    {
     "data": {
      "application/vnd.jupyter.widget-view+json": {
       "model_id": "5bcc70db344d4178ab0f826cc01284dd",
       "version_major": 2,
       "version_minor": 0
      },
      "text/plain": [
       "MetricVisualizer(layout=Layout(align_self='stretch', height='500px'))"
      ]
     },
     "metadata": {},
     "output_type": "display_data"
    },
    {
     "name": "stdout",
     "output_type": "stream",
     "text": [
      "Stopped by overfitting detector  (20 iterations wait)\n",
      "\n",
      "bestTest = 0.6291743734\n",
      "bestIteration = 117\n",
      "\n",
      "0:\tloss: 0.6291744\tbest: 0.6291744 (0)\ttotal: 755ms\tremaining: 37s\n",
      "Stopped by overfitting detector  (20 iterations wait)\n",
      "\n",
      "bestTest = 0.6202121349\n",
      "bestIteration = 31\n",
      "\n",
      "1:\tloss: 0.6202121\tbest: 0.6291744 (0)\ttotal: 1.04s\tremaining: 25s\n",
      "Stopped by overfitting detector  (20 iterations wait)\n",
      "\n",
      "bestTest = 0.6062439245\n",
      "bestIteration = 2\n",
      "\n",
      "2:\tloss: 0.6062439\tbest: 0.6291744 (0)\ttotal: 1.23s\tremaining: 19.2s\n",
      "Stopped by overfitting detector  (20 iterations wait)\n",
      "\n",
      "bestTest = 0.6062439245\n",
      "bestIteration = 2\n",
      "\n",
      "3:\tloss: 0.6062439\tbest: 0.6291744 (0)\ttotal: 1.39s\tremaining: 16s\n",
      "Stopped by overfitting detector  (20 iterations wait)\n",
      "\n",
      "bestTest = 0.6208164721\n",
      "bestIteration = 57\n",
      "\n",
      "4:\tloss: 0.6208165\tbest: 0.6291744 (0)\ttotal: 1.84s\tremaining: 16.6s\n",
      "Stopped by overfitting detector  (20 iterations wait)\n",
      "\n",
      "bestTest = 0.6266128324\n",
      "bestIteration = 43\n",
      "\n",
      "5:\tloss: 0.6266128\tbest: 0.6291744 (0)\ttotal: 2.17s\tremaining: 16s\n",
      "Stopped by overfitting detector  (20 iterations wait)\n",
      "\n",
      "bestTest = 0.6196310743\n",
      "bestIteration = 70\n",
      "\n",
      "6:\tloss: 0.6196311\tbest: 0.6291744 (0)\ttotal: 2.68s\tremaining: 16.5s\n",
      "Stopped by overfitting detector  (20 iterations wait)\n",
      "\n",
      "bestTest = 0.6010085538\n",
      "bestIteration = 2\n",
      "\n",
      "7:\tloss: 0.6010086\tbest: 0.6291744 (0)\ttotal: 2.83s\tremaining: 14.8s\n",
      "Stopped by overfitting detector  (20 iterations wait)\n",
      "\n",
      "bestTest = 0.6318626712\n",
      "bestIteration = 78\n",
      "\n",
      "8:\tloss: 0.6318627\tbest: 0.6318627 (8)\ttotal: 3.35s\tremaining: 15.3s\n",
      "Stopped by overfitting detector  (20 iterations wait)\n",
      "\n",
      "bestTest = 0.6010085538\n",
      "bestIteration = 2\n",
      "\n",
      "9:\tloss: 0.6010086\tbest: 0.6318627 (8)\ttotal: 3.49s\tremaining: 14s\n",
      "Stopped by overfitting detector  (20 iterations wait)\n",
      "\n",
      "bestTest = 0.6010085538\n",
      "bestIteration = 2\n",
      "\n",
      "10:\tloss: 0.6010086\tbest: 0.6318627 (8)\ttotal: 3.62s\tremaining: 12.8s\n",
      "Stopped by overfitting detector  (20 iterations wait)\n",
      "\n",
      "bestTest = 0.6010085538\n",
      "bestIteration = 2\n",
      "\n",
      "11:\tloss: 0.6010086\tbest: 0.6318627 (8)\ttotal: 3.74s\tremaining: 11.9s\n",
      "Stopped by overfitting detector  (20 iterations wait)\n",
      "\n",
      "bestTest = 0.6010085538\n",
      "bestIteration = 2\n",
      "\n",
      "12:\tloss: 0.6010086\tbest: 0.6318627 (8)\ttotal: 3.88s\tremaining: 11s\n",
      "Stopped by overfitting detector  (20 iterations wait)\n",
      "\n",
      "bestTest = 0.6010085538\n",
      "bestIteration = 2\n",
      "\n",
      "13:\tloss: 0.6010086\tbest: 0.6318627 (8)\ttotal: 4s\tremaining: 10.3s\n",
      "Stopped by overfitting detector  (20 iterations wait)\n",
      "\n",
      "bestTest = 0.6010085538\n",
      "bestIteration = 2\n",
      "\n",
      "14:\tloss: 0.6010086\tbest: 0.6318627 (8)\ttotal: 4.13s\tremaining: 9.63s\n",
      "Stopped by overfitting detector  (20 iterations wait)\n",
      "\n",
      "bestTest = 0.6010085538\n",
      "bestIteration = 2\n",
      "\n",
      "15:\tloss: 0.6010086\tbest: 0.6318627 (8)\ttotal: 4.27s\tremaining: 9.07s\n",
      "Stopped by overfitting detector  (20 iterations wait)\n",
      "\n",
      "bestTest = 0.6010085538\n",
      "bestIteration = 2\n",
      "\n",
      "16:\tloss: 0.6010086\tbest: 0.6318627 (8)\ttotal: 4.48s\tremaining: 8.7s\n",
      "Stopped by overfitting detector  (20 iterations wait)\n",
      "\n",
      "bestTest = 0.6010085538\n",
      "bestIteration = 2\n",
      "\n",
      "17:\tloss: 0.6010086\tbest: 0.6318627 (8)\ttotal: 4.62s\tremaining: 8.22s\n",
      "Stopped by overfitting detector  (20 iterations wait)\n",
      "\n",
      "bestTest = 0.6148066628\n",
      "bestIteration = 39\n",
      "\n",
      "18:\tloss: 0.6148067\tbest: 0.6318627 (8)\ttotal: 4.9s\tremaining: 8s\n",
      "Stopped by overfitting detector  (20 iterations wait)\n",
      "\n",
      "bestTest = 0.6385673002\n",
      "bestIteration = 84\n",
      "\n",
      "19:\tloss: 0.6385673\tbest: 0.6385673 (19)\ttotal: 5.66s\tremaining: 8.5s\n",
      "Stopped by overfitting detector  (20 iterations wait)\n",
      "\n",
      "bestTest = 0.6101878142\n",
      "bestIteration = 26\n",
      "\n",
      "20:\tloss: 0.6101878\tbest: 0.6385673 (19)\ttotal: 6.09s\tremaining: 8.41s\n",
      "Stopped by overfitting detector  (20 iterations wait)\n",
      "\n",
      "bestTest = 0.6018952876\n",
      "bestIteration = 6\n",
      "\n",
      "21:\tloss: 0.6018953\tbest: 0.6385673 (19)\ttotal: 6.25s\tremaining: 7.95s\n",
      "Stopped by overfitting detector  (20 iterations wait)\n",
      "\n",
      "bestTest = 0.6018952876\n",
      "bestIteration = 6\n",
      "\n",
      "22:\tloss: 0.6018953\tbest: 0.6385673 (19)\ttotal: 6.44s\tremaining: 7.56s\n",
      "Stopped by overfitting detector  (20 iterations wait)\n",
      "\n",
      "bestTest = 0.6211137082\n",
      "bestIteration = 42\n",
      "\n",
      "23:\tloss: 0.6211137\tbest: 0.6385673 (19)\ttotal: 6.83s\tremaining: 7.4s\n",
      "Stopped by overfitting detector  (20 iterations wait)\n",
      "\n",
      "bestTest = 0.6165979871\n",
      "bestIteration = 49\n",
      "\n",
      "24:\tloss: 0.6165980\tbest: 0.6385673 (19)\ttotal: 7.28s\tremaining: 7.28s\n",
      "Stopped by overfitting detector  (20 iterations wait)\n",
      "\n",
      "bestTest = 0.6018952876\n",
      "bestIteration = 6\n",
      "\n",
      "25:\tloss: 0.6018953\tbest: 0.6385673 (19)\ttotal: 7.46s\tremaining: 6.89s\n",
      "Stopped by overfitting detector  (20 iterations wait)\n",
      "\n",
      "bestTest = 0.6018952876\n",
      "bestIteration = 6\n",
      "\n",
      "26:\tloss: 0.6018953\tbest: 0.6385673 (19)\ttotal: 7.63s\tremaining: 6.5s\n",
      "Stopped by overfitting detector  (20 iterations wait)\n",
      "\n",
      "bestTest = 0.6018952876\n",
      "bestIteration = 6\n",
      "\n",
      "27:\tloss: 0.6018953\tbest: 0.6385673 (19)\ttotal: 7.79s\tremaining: 6.12s\n",
      "Stopped by overfitting detector  (20 iterations wait)\n",
      "\n",
      "bestTest = 0.6018952876\n",
      "bestIteration = 6\n",
      "\n",
      "28:\tloss: 0.6018953\tbest: 0.6385673 (19)\ttotal: 7.97s\tremaining: 5.77s\n",
      "Stopped by overfitting detector  (20 iterations wait)\n",
      "\n",
      "bestTest = 0.6018952876\n",
      "bestIteration = 6\n",
      "\n",
      "29:\tloss: 0.6018953\tbest: 0.6385673 (19)\ttotal: 8.14s\tremaining: 5.43s\n",
      "Stopped by overfitting detector  (20 iterations wait)\n",
      "\n",
      "bestTest = 0.6018952876\n",
      "bestIteration = 6\n",
      "\n",
      "30:\tloss: 0.6018953\tbest: 0.6385673 (19)\ttotal: 8.32s\tremaining: 5.1s\n",
      "Stopped by overfitting detector  (20 iterations wait)\n",
      "\n",
      "bestTest = 0.6226212323\n",
      "bestIteration = 32\n",
      "\n",
      "31:\tloss: 0.6226212\tbest: 0.6385673 (19)\ttotal: 8.66s\tremaining: 4.87s\n",
      "Stopped by overfitting detector  (20 iterations wait)\n",
      "\n",
      "bestTest = 0.635010663\n",
      "bestIteration = 97\n",
      "\n",
      "32:\tloss: 0.6350107\tbest: 0.6385673 (19)\ttotal: 9.39s\tremaining: 4.84s\n",
      "Stopped by overfitting detector  (20 iterations wait)\n",
      "\n",
      "bestTest = 0.6325437616\n",
      "bestIteration = 81\n",
      "\n",
      "33:\tloss: 0.6325438\tbest: 0.6385673 (19)\ttotal: 10.1s\tremaining: 4.75s\n",
      "Stopped by overfitting detector  (20 iterations wait)\n",
      "\n",
      "bestTest = 0.6370593471\n",
      "bestIteration = 96\n",
      "\n",
      "34:\tloss: 0.6370593\tbest: 0.6385673 (19)\ttotal: 10.9s\tremaining: 4.67s\n",
      "Stopped by overfitting detector  (20 iterations wait)\n",
      "\n",
      "bestTest = 0.6151373382\n",
      "bestIteration = 43\n",
      "\n",
      "35:\tloss: 0.6151373\tbest: 0.6385673 (19)\ttotal: 11.3s\tremaining: 4.4s\n",
      "Stopped by overfitting detector  (20 iterations wait)\n",
      "\n",
      "bestTest = 0.6243694852\n",
      "bestIteration = 63\n",
      "\n",
      "36:\tloss: 0.6243695\tbest: 0.6385673 (19)\ttotal: 11.9s\tremaining: 4.17s\n",
      "Stopped by overfitting detector  (20 iterations wait)\n",
      "\n",
      "bestTest = 0.6534024897\n",
      "bestIteration = 215\n",
      "\n",
      "37:\tloss: 0.6534025\tbest: 0.6534025 (37)\ttotal: 13.5s\tremaining: 4.26s\n",
      "Stopped by overfitting detector  (20 iterations wait)\n",
      "\n",
      "bestTest = 0.6193282612\n",
      "bestIteration = 60\n",
      "\n",
      "38:\tloss: 0.6193283\tbest: 0.6534025 (37)\ttotal: 14.1s\tremaining: 3.98s\n",
      "Stopped by overfitting detector  (20 iterations wait)\n",
      "\n",
      "bestTest = 0.6018952876\n",
      "bestIteration = 6\n",
      "\n",
      "39:\tloss: 0.6018953\tbest: 0.6534025 (37)\ttotal: 14.3s\tremaining: 3.57s\n",
      "Stopped by overfitting detector  (20 iterations wait)\n",
      "\n",
      "bestTest = 0.6018952876\n",
      "bestIteration = 6\n",
      "\n",
      "40:\tloss: 0.6018953\tbest: 0.6534025 (37)\ttotal: 14.4s\tremaining: 3.17s\n",
      "Stopped by overfitting detector  (20 iterations wait)\n",
      "\n",
      "bestTest = 0.6146933251\n",
      "bestIteration = 67\n",
      "\n",
      "41:\tloss: 0.6146933\tbest: 0.6534025 (37)\ttotal: 15.1s\tremaining: 2.87s\n",
      "Stopped by overfitting detector  (20 iterations wait)\n",
      "\n",
      "bestTest = 0.5952862499\n",
      "bestIteration = 11\n",
      "\n",
      "42:\tloss: 0.5952862\tbest: 0.6534025 (37)\ttotal: 15.3s\tremaining: 2.48s\n",
      "Stopped by overfitting detector  (20 iterations wait)\n",
      "\n",
      "bestTest = 0.6088469433\n",
      "bestIteration = 45\n",
      "\n",
      "43:\tloss: 0.6088469\tbest: 0.6534025 (37)\ttotal: 15.7s\tremaining: 2.14s\n",
      "Stopped by overfitting detector  (20 iterations wait)\n",
      "\n",
      "bestTest = 0.6222998796\n",
      "bestIteration = 61\n",
      "\n",
      "44:\tloss: 0.6222999\tbest: 0.6534025 (37)\ttotal: 16.3s\tremaining: 1.81s\n",
      "Stopped by overfitting detector  (20 iterations wait)\n",
      "\n",
      "bestTest = 0.599703843\n",
      "bestIteration = 23\n",
      "\n",
      "45:\tloss: 0.5997038\tbest: 0.6534025 (37)\ttotal: 16.6s\tremaining: 1.44s\n",
      "Stopped by overfitting detector  (20 iterations wait)\n",
      "\n",
      "bestTest = 0.5952862499\n",
      "bestIteration = 11\n",
      "\n",
      "46:\tloss: 0.5952862\tbest: 0.6534025 (37)\ttotal: 16.8s\tremaining: 1.07s\n",
      "Stopped by overfitting detector  (20 iterations wait)\n",
      "\n",
      "bestTest = 0.6230311705\n",
      "bestIteration = 46\n",
      "\n",
      "47:\tloss: 0.6230312\tbest: 0.6534025 (37)\ttotal: 17.3s\tremaining: 719ms\n",
      "Stopped by overfitting detector  (20 iterations wait)\n",
      "\n",
      "bestTest = 0.6096573137\n",
      "bestIteration = 31\n",
      "\n",
      "48:\tloss: 0.6096573\tbest: 0.6534025 (37)\ttotal: 17.6s\tremaining: 360ms\n"
     ]
    },
    {
     "name": "stdout",
     "output_type": "stream",
     "text": [
      "Stopped by overfitting detector  (20 iterations wait)\n",
      "\n",
      "bestTest = 0.5952862499\n",
      "bestIteration = 11\n",
      "\n",
      "49:\tloss: 0.5952862\tbest: 0.6534025 (37)\ttotal: 17.9s\tremaining: 0us\n",
      "Estimating final quality...\n",
      "Training on fold [0/3]\n",
      "\n",
      "bestTest = 0.6912911733\n",
      "bestIteration = 1\n",
      "\n",
      "Training on fold [1/3]\n",
      "\n",
      "bestTest = 0.6243227132\n",
      "bestIteration = 66\n",
      "\n",
      "Training on fold [2/3]\n",
      "\n",
      "bestTest = 0.6090621644\n",
      "bestIteration = 3\n",
      "\n"
     ]
    }
   ],
   "source": [
    "grid_search = model.randomized_search(params,\n",
    "                                      X_train,\n",
    "                                      y_train,\n",
    "                                      n_iter=50,\n",
    "                                      cv=cv,\n",
    "                                      stratified=True,\n",
    "                                      plot=True,\n",
    "                                      refit=True)"
   ]
  },
  {
   "cell_type": "code",
   "execution_count": 95,
   "metadata": {},
   "outputs": [
    {
     "data": {
      "text/plain": [
       "{'params': {'l2_leaf_reg': 3.1113924050632913},\n",
       " 'cv_results': defaultdict(list,\n",
       "             {'iterations': [0,\n",
       "               1,\n",
       "               2,\n",
       "               3,\n",
       "               4,\n",
       "               5,\n",
       "               6,\n",
       "               7,\n",
       "               8,\n",
       "               9,\n",
       "               10,\n",
       "               11,\n",
       "               12,\n",
       "               13,\n",
       "               14,\n",
       "               15,\n",
       "               16,\n",
       "               17,\n",
       "               18,\n",
       "               19,\n",
       "               20,\n",
       "               21,\n",
       "               22,\n",
       "               23,\n",
       "               24,\n",
       "               25,\n",
       "               26,\n",
       "               27,\n",
       "               28,\n",
       "               29,\n",
       "               30,\n",
       "               31,\n",
       "               32,\n",
       "               33,\n",
       "               34,\n",
       "               35,\n",
       "               36,\n",
       "               37,\n",
       "               38,\n",
       "               39,\n",
       "               40,\n",
       "               41,\n",
       "               42,\n",
       "               43,\n",
       "               44,\n",
       "               45,\n",
       "               46,\n",
       "               47,\n",
       "               48,\n",
       "               49,\n",
       "               50,\n",
       "               51,\n",
       "               52,\n",
       "               53,\n",
       "               54,\n",
       "               55,\n",
       "               56,\n",
       "               57,\n",
       "               58,\n",
       "               59,\n",
       "               60,\n",
       "               61,\n",
       "               62,\n",
       "               63,\n",
       "               64,\n",
       "               65,\n",
       "               66,\n",
       "               67,\n",
       "               68,\n",
       "               69,\n",
       "               70,\n",
       "               71,\n",
       "               72,\n",
       "               73,\n",
       "               74,\n",
       "               75,\n",
       "               76,\n",
       "               77,\n",
       "               78,\n",
       "               79,\n",
       "               80,\n",
       "               81,\n",
       "               82,\n",
       "               83,\n",
       "               84,\n",
       "               85,\n",
       "               86],\n",
       "              'test-F1-mean': [0.5969312983604246,\n",
       "               0.6204531460860264,\n",
       "               0.6044945061426731,\n",
       "               0.6127516351483602,\n",
       "               0.6120901421350333,\n",
       "               0.6121668140023856,\n",
       "               0.6201347732894124,\n",
       "               0.6205892801827121,\n",
       "               0.6217911671937408,\n",
       "               0.6230712238470761,\n",
       "               0.6211668388128025,\n",
       "               0.6180852518261345,\n",
       "               0.6154489429506628,\n",
       "               0.6130744608887796,\n",
       "               0.6161101246505326,\n",
       "               0.6138992528919696,\n",
       "               0.6125764094585686,\n",
       "               0.6125096366514079,\n",
       "               0.6120038185975364,\n",
       "               0.6130225802308026,\n",
       "               0.6146481259142687,\n",
       "               0.6141351573207798,\n",
       "               0.6156221540457626,\n",
       "               0.615998698088626,\n",
       "               0.615998698088626,\n",
       "               0.615998698088626,\n",
       "               0.6192287611208954,\n",
       "               0.6182119708236867,\n",
       "               0.6191235189606145,\n",
       "               0.6193100438146653,\n",
       "               0.6200140405639994,\n",
       "               0.6198283787737119,\n",
       "               0.6196566403919118,\n",
       "               0.6196566403919118,\n",
       "               0.6175626539350296,\n",
       "               0.6204628806381131,\n",
       "               0.6199211671233648,\n",
       "               0.6201843516261402,\n",
       "               0.6198283787737119,\n",
       "               0.6208172827238976,\n",
       "               0.6214288529526427,\n",
       "               0.6211316566715909,\n",
       "               0.620689219972566,\n",
       "               0.620061392865863,\n",
       "               0.620947480834715,\n",
       "               0.6205971426806761,\n",
       "               0.620689219972566,\n",
       "               0.6202296659933227,\n",
       "               0.6207636376449418,\n",
       "               0.6204884946048693,\n",
       "               0.620305479100714,\n",
       "               0.6210936905773757,\n",
       "               0.6211851783662753,\n",
       "               0.6210936905773757,\n",
       "               0.6212767483629862,\n",
       "               0.6232954180045646,\n",
       "               0.6234796926069639,\n",
       "               0.6243433384815419,\n",
       "               0.6246807963463179,\n",
       "               0.6245885611967651,\n",
       "               0.6239122003011149,\n",
       "               0.6236357705823395,\n",
       "               0.6231114726156965,\n",
       "               0.6236357705823395,\n",
       "               0.6234518948120118,\n",
       "               0.6252939764622899,\n",
       "               0.6254791118494082,\n",
       "               0.6238199747730387,\n",
       "               0.6237278315701743,\n",
       "               0.6227696640919148,\n",
       "               0.6225859791655782,\n",
       "               0.6240045082647825,\n",
       "               0.6228616299208878,\n",
       "               0.6230458088633019,\n",
       "               0.6229536781410935,\n",
       "               0.6228616299208878,\n",
       "               0.6217145484038468,\n",
       "               0.621806251188763,\n",
       "               0.6234796926069639,\n",
       "               0.6224264607549163,\n",
       "               0.6224264607549163,\n",
       "               0.6228616299208878,\n",
       "               0.6232954180045646,\n",
       "               0.6233875140988595,\n",
       "               0.6233875140988595,\n",
       "               0.6237278315701743,\n",
       "               0.6238199747730387],\n",
       "              'test-F1-std': [0.02512076279654438,\n",
       "               0.06261772316167702,\n",
       "               0.02507775946239263,\n",
       "               0.035522928502069256,\n",
       "               0.03481273247881826,\n",
       "               0.035004057688494884,\n",
       "               0.038416420813499455,\n",
       "               0.04220032804282317,\n",
       "               0.047555431578527096,\n",
       "               0.048576035281583954,\n",
       "               0.04752824486521706,\n",
       "               0.03879500480034865,\n",
       "               0.036657724138928434,\n",
       "               0.030959050833536176,\n",
       "               0.0318704847249575,\n",
       "               0.027680420118229437,\n",
       "               0.027293720636986697,\n",
       "               0.027334750222144554,\n",
       "               0.027053246698261566,\n",
       "               0.02220062688344514,\n",
       "               0.026940552031337415,\n",
       "               0.026470545941979173,\n",
       "               0.024728484419780282,\n",
       "               0.02433849022688038,\n",
       "               0.02433849022688038,\n",
       "               0.02433849022688038,\n",
       "               0.02070561039988219,\n",
       "               0.021759667054029715,\n",
       "               0.02081027241378106,\n",
       "               0.020625514902521184,\n",
       "               0.019959919174564793,\n",
       "               0.020130420040861463,\n",
       "               0.02029139654832146,\n",
       "               0.02029139654832146,\n",
       "               0.022479159672082187,\n",
       "               0.019563434603080538,\n",
       "               0.020044745094393156,\n",
       "               0.019806816402210187,\n",
       "               0.020130420040861463,\n",
       "               0.019266777334034788,\n",
       "               0.018791032191335176,\n",
       "               0.019016341161242283,\n",
       "               0.019372253968526872,\n",
       "               0.01991703099174621,\n",
       "               0.019161579074791286,\n",
       "               0.019449301640866855,\n",
       "               0.019372253968526872,\n",
       "               0.019766622359140413,\n",
       "               0.01931072118457928,\n",
       "               0.019541498620764486,\n",
       "               0.019699891650016114,\n",
       "               0.01904593401793456,\n",
       "               0.01897493211085645,\n",
       "               0.01904593401793456,\n",
       "               0.018904929428138456,\n",
       "               0.017655570670996542,\n",
       "               0.01757177755637179,\n",
       "               0.017252481593420337,\n",
       "               0.017161567327417384,\n",
       "               0.017184489908591755,\n",
       "               0.017396537471012927,\n",
       "               0.01750504471723617,\n",
       "               0.01774454588137896,\n",
       "               0.01750504471723617,\n",
       "               0.017584072262145922,\n",
       "               0.017046496810099444,\n",
       "               0.017024627960868764,\n",
       "               0.017431352114315783,\n",
       "               0.017467525288505682,\n",
       "               0.017923751955156268,\n",
       "               0.018027352881112544,\n",
       "               0.017363093426895453,\n",
       "               0.01787378387876591,\n",
       "               0.017777582867509824,\n",
       "               0.017825056188652096,\n",
       "               0.01787378387876591,\n",
       "               0.01858531085819804,\n",
       "               0.018521596779059398,\n",
       "               0.01757177755637179,\n",
       "               0.018121375181749257,\n",
       "               0.018121375181749257,\n",
       "               0.01787378387876591,\n",
       "               0.017655570670996542,\n",
       "               0.017613019710916056,\n",
       "               0.017613019710916056,\n",
       "               0.017467525288505682,\n",
       "               0.017431352114315783],\n",
       "              'train-F1-mean': [0.6029812053345253,\n",
       "               0.6369518309508452,\n",
       "               0.6245619709114844,\n",
       "               0.6372862665254363,\n",
       "               0.6378945156167367,\n",
       "               0.6336188890592958,\n",
       "               0.6325410599847064,\n",
       "               0.6359750805701121,\n",
       "               0.6362465735822607,\n",
       "               0.6414199260743269,\n",
       "               0.6374723182061082,\n",
       "               0.6351407298325659,\n",
       "               0.635182362573397,\n",
       "               0.6314569907355483,\n",
       "               0.6353987549294972,\n",
       "               0.6321362618792196,\n",
       "               0.6324257733493501,\n",
       "               0.6343990751682961,\n",
       "               0.6346462889310955,\n",
       "               0.6348970495005545,\n",
       "               0.6360485774831686,\n",
       "               0.6368129398056191,\n",
       "               0.6357773133948322,\n",
       "               0.6357277100412906,\n",
       "               0.6364686123019092,\n",
       "               0.636303639369986,\n",
       "               0.638491382918526,\n",
       "               0.6385055342422684,\n",
       "               0.6382953645232913,\n",
       "               0.6383443358913465,\n",
       "               0.6415111187824704,\n",
       "               0.6416093990779493,\n",
       "               0.6416585721815169,\n",
       "               0.6416991693154132,\n",
       "               0.6408343522354684,\n",
       "               0.6430265784790158,\n",
       "               0.642773237517832,\n",
       "               0.6432362256478845,\n",
       "               0.6431808762612797,\n",
       "               0.6438887145465834,\n",
       "               0.6447952793701274,\n",
       "               0.6485692070490227,\n",
       "               0.6492137203176356,\n",
       "               0.6498597773780899,\n",
       "               0.6495592876584527,\n",
       "               0.6498046446736797,\n",
       "               0.6492636771501862,\n",
       "               0.6525170556539316,\n",
       "               0.6524668939130169,\n",
       "               0.6525076787191225,\n",
       "               0.6524075453193354,\n",
       "               0.6533588156574205,\n",
       "               0.6531191004367211,\n",
       "               0.6539377116084808,\n",
       "               0.6539878725255084,\n",
       "               0.6545534413988303,\n",
       "               0.6555405103888922,\n",
       "               0.6561494451309536,\n",
       "               0.6567558676455113,\n",
       "               0.6568564359378494,\n",
       "               0.6574616570908655,\n",
       "               0.6572765284739194,\n",
       "               0.6574789568688896,\n",
       "               0.6576640901976154,\n",
       "               0.6578996053428584,\n",
       "               0.6580009979096448,\n",
       "               0.6574283171702061,\n",
       "               0.6588585921553454,\n",
       "               0.6590931924428118,\n",
       "               0.6591949837011606,\n",
       "               0.658909454394191,\n",
       "               0.6590112443337286,\n",
       "               0.6590931924428118,\n",
       "               0.6592459120648421,\n",
       "               0.6586938511608309,\n",
       "               0.6586938511608309,\n",
       "               0.6590112443337286,\n",
       "               0.6588781519748116,\n",
       "               0.6600207762798105,\n",
       "               0.6600207762798105,\n",
       "               0.6604083206286215,\n",
       "               0.6606934010191842,\n",
       "               0.6611090865568883,\n",
       "               0.6613934678026926,\n",
       "               0.6617290286068503,\n",
       "               0.6619885328392495,\n",
       "               0.6619885328392495],\n",
       "              'train-F1-std': [0.011530838702825818,\n",
       "               0.048093584476432735,\n",
       "               0.019641539186086302,\n",
       "               0.04279784512208349,\n",
       "               0.04210745618953431,\n",
       "               0.03554504724444071,\n",
       "               0.03182651257459041,\n",
       "               0.03410772210633518,\n",
       "               0.03709197949664432,\n",
       "               0.04859427411958961,\n",
       "               0.038704941348324876,\n",
       "               0.032416892391062775,\n",
       "               0.03366344790351883,\n",
       "               0.027012734675724685,\n",
       "               0.028513683113689837,\n",
       "               0.025370122274048605,\n",
       "               0.024384661045221596,\n",
       "               0.02770061027133962,\n",
       "               0.026734169137867473,\n",
       "               0.024900124210075616,\n",
       "               0.022376941365408423,\n",
       "               0.022455530722912766,\n",
       "               0.020610840093349958,\n",
       "               0.021350183158400076,\n",
       "               0.02172492798990667,\n",
       "               0.02163546075275965,\n",
       "               0.023082759896708716,\n",
       "               0.02309385039970948,\n",
       "               0.022931281951797337,\n",
       "               0.02296874909872478,\n",
       "               0.025871280415166335,\n",
       "               0.025974705019995877,\n",
       "               0.02602671562913551,\n",
       "               0.026069786892603444,\n",
       "               0.02517881051308609,\n",
       "               0.02753995862896335,\n",
       "               0.027250518677636504,\n",
       "               0.027782439370357855,\n",
       "               0.027718165446424605,\n",
       "               0.028553495522429268,\n",
       "               0.029663024661728547,\n",
       "               0.034666693768872194,\n",
       "               0.03557097843127019,\n",
       "               0.036489215372852164,\n",
       "               0.03606072032268981,\n",
       "               0.03641041719318294,\n",
       "               0.03564157240025031,\n",
       "               0.040372657832658435,\n",
       "               0.04029794739082422,\n",
       "               0.040358688207284485,\n",
       "               0.040209617310127704,\n",
       "               0.041633416553343905,\n",
       "               0.041273056518718376,\n",
       "               0.04250778737040243,\n",
       "               0.042583817230948964,\n",
       "               0.04344387680613873,\n",
       "               0.04495663034494818,\n",
       "               0.04589676156745195,\n",
       "               0.046837864036008744,\n",
       "               0.04699438276071632,\n",
       "               0.047938888563282024,\n",
       "               0.04764951685161646,\n",
       "               0.04796594990649628,\n",
       "               0.048255761262209235,\n",
       "               0.04862500104713514,\n",
       "               0.04878415370994906,\n",
       "               0.04788674602362762,\n",
       "               0.05013468961320035,\n",
       "               0.050505456304012195,\n",
       "               0.05066649884230094,\n",
       "               0.050215026510272896,\n",
       "               0.050375881612964246,\n",
       "               0.050505456304012195,\n",
       "               0.050747109986910434,\n",
       "               0.049874661126804,\n",
       "               0.049874661126804,\n",
       "               0.050375881612964246,\n",
       "               0.05016558126165867,\n",
       "               0.051976636186898,\n",
       "               0.051976636186898,\n",
       "               0.05259364246464873,\n",
       "               0.05304835754443068,\n",
       "               0.05371262935886888,\n",
       "               0.05416789516404849,\n",
       "               0.05470592541840416,\n",
       "               0.0551226095322811,\n",
       "               0.0551226095322811],\n",
       "              'test-Logloss-mean': [0.6810724240783931,\n",
       "               0.6718037188903878,\n",
       "               0.6606905270660696,\n",
       "               0.651017563953003,\n",
       "               0.6433885248694554,\n",
       "               0.6361535907961334,\n",
       "               0.6292160651495359,\n",
       "               0.6235188221008862,\n",
       "               0.6186964656608868,\n",
       "               0.6137924732655496,\n",
       "               0.6090005610641941,\n",
       "               0.6053903313956832,\n",
       "               0.6022572031098847,\n",
       "               0.6003556357954102,\n",
       "               0.5982363342199163,\n",
       "               0.5959867683022056,\n",
       "               0.5934143267603013,\n",
       "               0.5922471820124829,\n",
       "               0.589799177010003,\n",
       "               0.5874080599937385,\n",
       "               0.5856232796600431,\n",
       "               0.5837793863196206,\n",
       "               0.5827046035854013,\n",
       "               0.581782375046298,\n",
       "               0.5816074099686411,\n",
       "               0.5812980153881634,\n",
       "               0.5811021396534616,\n",
       "               0.5807467564548515,\n",
       "               0.5804466016746438,\n",
       "               0.5802838380133712,\n",
       "               0.5801118495885751,\n",
       "               0.5800748433485984,\n",
       "               0.5798022259839243,\n",
       "               0.5793527266974036,\n",
       "               0.579042052909598,\n",
       "               0.5789156267863926,\n",
       "               0.578540442705445,\n",
       "               0.5784084331706566,\n",
       "               0.5781148063065539,\n",
       "               0.5780617538761339,\n",
       "               0.5777007215784091,\n",
       "               0.5776134979021584,\n",
       "               0.5772937061307489,\n",
       "               0.5771949114790947,\n",
       "               0.5771491815469951,\n",
       "               0.5771217931238874,\n",
       "               0.5771217217560444,\n",
       "               0.5769289516816544,\n",
       "               0.5765867540257067,\n",
       "               0.5765511591854015,\n",
       "               0.5765403484196036,\n",
       "               0.5765753653869637,\n",
       "               0.5765686939572747,\n",
       "               0.5765154910764648,\n",
       "               0.5764878987031945,\n",
       "               0.5764324048100059,\n",
       "               0.5762992747800707,\n",
       "               0.5761656923028421,\n",
       "               0.5761678764135159,\n",
       "               0.5761670874426364,\n",
       "               0.5760957189692618,\n",
       "               0.5760780032474446,\n",
       "               0.5758749569972792,\n",
       "               0.5758428848218776,\n",
       "               0.5758593120031352,\n",
       "               0.5758613162772757,\n",
       "               0.5758076435497129,\n",
       "               0.5757745516976299,\n",
       "               0.5757575742631853,\n",
       "               0.5757600919467877,\n",
       "               0.5757585494384957,\n",
       "               0.5757670809280871,\n",
       "               0.5756320210662255,\n",
       "               0.5756304814771239,\n",
       "               0.5756045551539203,\n",
       "               0.5755260269377712,\n",
       "               0.5755334303564791,\n",
       "               0.5755686358391651,\n",
       "               0.575526184337359,\n",
       "               0.5752860484384447,\n",
       "               0.5752737176311297,\n",
       "               0.5752652178022798,\n",
       "               0.5752372658465353,\n",
       "               0.5751971760115995,\n",
       "               0.5752199336858469,\n",
       "               0.5751752693734554,\n",
       "               0.575149899638295],\n",
       "              'test-Logloss-std': [0.000613044135493408,\n",
       "               0.0013513007043534594,\n",
       "               0.003249711273536081,\n",
       "               0.0026453406905121114,\n",
       "               0.003104759699401725,\n",
       "               0.002379416745949833,\n",
       "               0.0022743137395475634,\n",
       "               0.0020644151071509066,\n",
       "               0.003245001685539126,\n",
       "               0.003253003027963344,\n",
       "               0.003600360637979158,\n",
       "               0.005438497545992716,\n",
       "               0.005022881486935197,\n",
       "               0.004569310494776917,\n",
       "               0.0036064282116310053,\n",
       "               0.0036161010309122186,\n",
       "               0.0030117237614264935,\n",
       "               0.0033255233388922007,\n",
       "               0.002948100278856907,\n",
       "               0.002931179423394872,\n",
       "               0.0025387829190584117,\n",
       "               0.002652334504327973,\n",
       "               0.0025900162836009666,\n",
       "               0.002631929263092996,\n",
       "               0.0026216554891579633,\n",
       "               0.002688346816433626,\n",
       "               0.002783579948343672,\n",
       "               0.003046556243751606,\n",
       "               0.003341663615219952,\n",
       "               0.003523498244347084,\n",
       "               0.0037291868124974194,\n",
       "               0.0037750525276309304,\n",
       "               0.0041279298725512125,\n",
       "               0.004755187007860711,\n",
       "               0.005212620929594986,\n",
       "               0.005403026597473247,\n",
       "               0.005979604040502774,\n",
       "               0.0061859296590480485,\n",
       "               0.006650094202083602,\n",
       "               0.006734643593463212,\n",
       "               0.007314722584485731,\n",
       "               0.007455964110251293,\n",
       "               0.007976887147913142,\n",
       "               0.008138698610901062,\n",
       "               0.00821372538570833,\n",
       "               0.008258697554437571,\n",
       "               0.008258814777464134,\n",
       "               0.008576098093440464,\n",
       "               0.009142240205061854,\n",
       "               0.009201321465074526,\n",
       "               0.0092192721262405,\n",
       "               0.009161139683816615,\n",
       "               0.009172212556638663,\n",
       "               0.009260557958551838,\n",
       "               0.009306405200016738,\n",
       "               0.009398672010722017,\n",
       "               0.009620327884231308,\n",
       "               0.009843149552196222,\n",
       "               0.009839503182208572,\n",
       "               0.0098408203561871,\n",
       "               0.009960023875041133,\n",
       "               0.009989630248319182,\n",
       "               0.010329408931747993,\n",
       "               0.010383151203524364,\n",
       "               0.01035562234098205,\n",
       "               0.01035226389688577,\n",
       "               0.010442225649662344,\n",
       "               0.010497717523968024,\n",
       "               0.01052619465015944,\n",
       "               0.010521971287013076,\n",
       "               0.010524558800071058,\n",
       "               0.010510248000832233,\n",
       "               0.010736946914450337,\n",
       "               0.010739532913446594,\n",
       "               0.010783086437399362,\n",
       "               0.010915072529881675,\n",
       "               0.010902625025246535,\n",
       "               0.010843445374792125,\n",
       "               0.01091480788199966,\n",
       "               0.011319006942412934,\n",
       "               0.01133978517278259,\n",
       "               0.011354109201485772,\n",
       "               0.011401221374315202,\n",
       "               0.011468810505466703,\n",
       "               0.011430439670444898,\n",
       "               0.011505753125398773,\n",
       "               0.011548543905531065],\n",
       "              'train-Logloss-mean': [0.6806661423626793,\n",
       "               0.6708631485746145,\n",
       "               0.6592709496258083,\n",
       "               0.6492916769442764,\n",
       "               0.6413249491685588,\n",
       "               0.633377367243659,\n",
       "               0.6259528716420485,\n",
       "               0.6200316787491271,\n",
       "               0.6148844062521251,\n",
       "               0.6097020182184559,\n",
       "               0.6047332090878762,\n",
       "               0.6009852097571556,\n",
       "               0.5976483545372439,\n",
       "               0.5953188973980486,\n",
       "               0.5927107664539085,\n",
       "               0.5901063691283518,\n",
       "               0.5869485794247068,\n",
       "               0.5852791494748993,\n",
       "               0.5827874858882027,\n",
       "               0.5801072121397383,\n",
       "               0.5777901431275833,\n",
       "               0.575727101220167,\n",
       "               0.5742057345446915,\n",
       "               0.5730401683863284,\n",
       "               0.572662536718375,\n",
       "               0.5721842654681336,\n",
       "               0.5716486960222352,\n",
       "               0.5712287739058145,\n",
       "               0.5707107838703523,\n",
       "               0.5704194951084329,\n",
       "               0.5699449178819944,\n",
       "               0.5697460545038334,\n",
       "               0.5694412351527901,\n",
       "               0.568977065905987,\n",
       "               0.5685273465144111,\n",
       "               0.5679962827983677,\n",
       "               0.5674716302627346,\n",
       "               0.5671248798768012,\n",
       "               0.5666767764561346,\n",
       "               0.5664111291412602,\n",
       "               0.5659526767149824,\n",
       "               0.565659226778127,\n",
       "               0.5652483074673266,\n",
       "               0.5647881307763306,\n",
       "               0.5646761699968506,\n",
       "               0.5644278541772636,\n",
       "               0.5643950827838481,\n",
       "               0.564038192905651,\n",
       "               0.5636466973130526,\n",
       "               0.5634750348172096,\n",
       "               0.5633982107996146,\n",
       "               0.5628908955716388,\n",
       "               0.5628651399213542,\n",
       "               0.5625623130076699,\n",
       "               0.5625224913798321,\n",
       "               0.5624217782397606,\n",
       "               0.5619967200478847,\n",
       "               0.5617509496552316,\n",
       "               0.5615409954492845,\n",
       "               0.5614356652340896,\n",
       "               0.5610395906595432,\n",
       "               0.5607128458020062,\n",
       "               0.5603607252531771,\n",
       "               0.5603403711150113,\n",
       "               0.560229473857277,\n",
       "               0.5599045308334333,\n",
       "               0.559798323196733,\n",
       "               0.5595382510406164,\n",
       "               0.559195236453195,\n",
       "               0.559169002436673,\n",
       "               0.5590687084518088,\n",
       "               0.5587973378075867,\n",
       "               0.5585258533428423,\n",
       "               0.5582804969695462,\n",
       "               0.5581670068466444,\n",
       "               0.5579606358613357,\n",
       "               0.5578495550070317,\n",
       "               0.55764028761026,\n",
       "               0.5574085871569506,\n",
       "               0.5571258715266026,\n",
       "               0.5566644469619196,\n",
       "               0.5565699097403441,\n",
       "               0.556326598431722,\n",
       "               0.5561494454460828,\n",
       "               0.5560402061675525,\n",
       "               0.5557687338821918,\n",
       "               0.5557317659068245],\n",
       "              'train-Logloss-std': [0.00035016755579400123,\n",
       "               0.0003685335186605566,\n",
       "               0.0008396821836311139,\n",
       "               0.0007021416652182687,\n",
       "               0.0012077005047565381,\n",
       "               0.0013721923693169689,\n",
       "               0.001493531872618809,\n",
       "               0.002062487392290248,\n",
       "               0.0013492660915948482,\n",
       "               0.001514552776610497,\n",
       "               0.0023829875000284323,\n",
       "               0.0023798795605596765,\n",
       "               0.0018111779932830463,\n",
       "               0.001955197885586367,\n",
       "               0.0026924737436646038,\n",
       "               0.002965198282760835,\n",
       "               0.003559618783647777,\n",
       "               0.003261448491102679,\n",
       "               0.004598922872132562,\n",
       "               0.004439444928094253,\n",
       "               0.004669324559024843,\n",
       "               0.004132128173548047,\n",
       "               0.004674956697886419,\n",
       "               0.005898856173549802,\n",
       "               0.006552841603085202,\n",
       "               0.007381138787101092,\n",
       "               0.008308690215223194,\n",
       "               0.009035964097173636,\n",
       "               0.009933094925803944,\n",
       "               0.010437595460208823,\n",
       "               0.011259549382656742,\n",
       "               0.011603976555129942,\n",
       "               0.01213191881206007,\n",
       "               0.012935855738301614,\n",
       "               0.013714768754112906,\n",
       "               0.01463457322939514,\n",
       "               0.015543276404222144,\n",
       "               0.016143852705238323,\n",
       "               0.016919975181841875,\n",
       "               0.01738008133967972,\n",
       "               0.01817413059650845,\n",
       "               0.018682392675419393,\n",
       "               0.01939411514275153,\n",
       "               0.02019115350956622,\n",
       "               0.020385072712060755,\n",
       "               0.020815162828905328,\n",
       "               0.020871923838535138,\n",
       "               0.02149006776365652,\n",
       "               0.02216815029895504,\n",
       "               0.022465475224578965,\n",
       "               0.02259853690438452,\n",
       "               0.023477223669612,\n",
       "               0.023521833326233203,\n",
       "               0.024046339895738515,\n",
       "               0.02411531233311388,\n",
       "               0.024289750993080565,\n",
       "               0.02502596680697919,\n",
       "               0.025451649988336912,\n",
       "               0.025815298337667877,\n",
       "               0.02599773414723285,\n",
       "               0.02668375006898963,\n",
       "               0.027249684540843182,\n",
       "               0.027859570863416158,\n",
       "               0.027894825018755943,\n",
       "               0.028086903373535133,\n",
       "               0.028649717405907844,\n",
       "               0.0288336732207167,\n",
       "               0.029284128514522403,\n",
       "               0.029878243523878655,\n",
       "               0.02992368189766341,\n",
       "               0.03009739512873358,\n",
       "               0.03056742010051473,\n",
       "               0.031037642298061264,\n",
       "               0.031462609641636455,\n",
       "               0.03165917923004336,\n",
       "               0.03201662234868047,\n",
       "               0.03220901901990665,\n",
       "               0.03257147890910755,\n",
       "               0.03297279383914309,\n",
       "               0.03346246926727962,\n",
       "               0.034261676275323324,\n",
       "               0.03442541879314239,\n",
       "               0.0348468444358787,\n",
       "               0.03515368104882912,\n",
       "               0.03534288820324371,\n",
       "               0.03581308997898044,\n",
       "               0.03587712012021383]})}"
      ]
     },
     "execution_count": 95,
     "metadata": {},
     "output_type": "execute_result"
    }
   ],
   "source": [
    "grid_search"
   ]
  },
  {
   "cell_type": "code",
   "execution_count": 96,
   "metadata": {},
   "outputs": [
    {
     "name": "stdout",
     "output_type": "stream",
     "text": [
      "TRAIN\n",
      "\n",
      "              precision    recall  f1-score   support\n",
      "\n",
      "           0       0.90      0.81      0.85      3771\n",
      "           1       0.62      0.77      0.68      1479\n",
      "\n",
      "    accuracy                           0.80      5250\n",
      "   macro avg       0.76      0.79      0.77      5250\n",
      "weighted avg       0.82      0.80      0.81      5250\n",
      "\n",
      "TEST\n",
      "\n",
      "              precision    recall  f1-score   support\n",
      "\n",
      "           0       0.83      0.75      0.79      1616\n",
      "           1       0.49      0.59      0.53       634\n",
      "\n",
      "    accuracy                           0.71      2250\n",
      "   macro avg       0.66      0.67      0.66      2250\n",
      "weighted avg       0.73      0.71      0.72      2250\n",
      "\n",
      "CONFUSION MATRIX\n",
      "\n",
      "col_0              0    1\n",
      "Credit Default           \n",
      "0               1217  399\n",
      "1                257  377\n",
      "CPU times: user 64.4 ms, sys: 3.52 ms, total: 67.9 ms\n",
      "Wall time: 54.2 ms\n"
     ]
    }
   ],
   "source": [
    "%%time\n",
    "\n",
    "evaluate_preds(model, X_train, X_test, y_train, y_test)"
   ]
  },
  {
   "cell_type": "markdown",
   "metadata": {},
   "source": [
    "### Selection of the optimal sample size, learning curve"
   ]
  },
  {
   "cell_type": "code",
   "execution_count": 97,
   "metadata": {},
   "outputs": [
    {
     "data": {
      "image/png": "[encoded data removed]",
      "text/plain": [
       "<Figure size 1080x576 with 1 Axes>"
      ]
     },
     "metadata": {
      "needs_background": "light"
     },
     "output_type": "display_data"
    }
   ],
   "source": [
    "show_learning_curve_plot(model, X, y)"
   ]
  },
  {
   "cell_type": "markdown",
   "metadata": {},
   "source": [
    "### Choosing a probability threshold for class definition"
   ]
  },
  {
   "cell_type": "code",
   "execution_count": 98,
   "metadata": {},
   "outputs": [
    {
     "data": {
      "image/png": "[encoded data removed]",
      "text/plain": [
       "<Figure size 1080x360 with 2 Axes>"
      ]
     },
     "metadata": {
      "needs_background": "light"
     },
     "output_type": "display_data"
    }
   ],
   "source": [
    "y_test_pred_probs = model.predict_proba(X_test)\n",
    "show_proba_calibration_plots(y_test_pred_probs[:, 1], y_test)"
   ]
  },
  {
   "cell_type": "markdown",
   "metadata": {},
   "source": [
    "### Feature Importance"
   ]
  },
  {
   "cell_type": "code",
   "execution_count": 99,
   "metadata": {},
   "outputs": [
    {
     "data": {
      "image/png": "[encoded data removed]",
      "text/plain": [
       "<Figure size 1440x383.4 with 1 Axes>"
      ]
     },
     "metadata": {
      "needs_background": "light"
     },
     "output_type": "display_data"
    }
   ],
   "source": [
    "important_features_top = show_feature_importances(X_train.columns, model.feature_importances_, get_top=23)"
   ]
  },
  {
   "cell_type": "code",
   "execution_count": 100,
   "metadata": {},
   "outputs": [
    {
     "data": {
      "text/plain": [
       "['Current Loan Amount',\n",
       " 'Credit Score',\n",
       " 'Annual Income',\n",
       " 'Term',\n",
       " 'Maximum Open Credit',\n",
       " 'Home Ownership',\n",
       " 'Monthly Debt',\n",
       " 'Years of Credit History',\n",
       " 'Years in current job',\n",
       " 'Current Credit Balance',\n",
       " 'Number of Open Accounts',\n",
       " 'Purpose',\n",
       " 'Bankruptcies',\n",
       " 'Number of Credit Problems',\n",
       " 'Tax Liens']"
      ]
     },
     "execution_count": 100,
     "metadata": {},
     "output_type": "execute_result"
    }
   ],
   "source": [
    "important_features_top"
   ]
  },
  {
   "cell_type": "markdown",
   "metadata": {},
   "source": [
    "### final model"
   ]
  },
  {
   "cell_type": "code",
   "execution_count": 101,
   "metadata": {},
   "outputs": [
    {
     "data": {
      "text/plain": [
       "['Home Ownership', 'Tax Liens', 'Bankruptcies', 'Purpose', 'Term']"
      ]
     },
     "execution_count": 101,
     "metadata": {},
     "output_type": "execute_result"
    }
   ],
   "source": [
    "CAT_FEATURE_NAMES"
   ]
  },
  {
   "cell_type": "code",
   "execution_count": 102,
   "metadata": {},
   "outputs": [
    {
     "data": {
      "text/plain": [
       "['Bankruptcies', 'Tax Liens', 'Purpose', 'Home Ownership', 'Term']"
      ]
     },
     "execution_count": 102,
     "metadata": {},
     "output_type": "execute_result"
    }
   ],
   "source": [
    "NEW_CAT_FEATURE_NAMES = list(set(CAT_FEATURE_NAMES).intersection(set(important_features_top)))\n",
    "NEW_CAT_FEATURE_NAMES"
   ]
  },
  {
   "cell_type": "code",
   "execution_count": 103,
   "metadata": {},
   "outputs": [
    {
     "name": "stdout",
     "output_type": "stream",
     "text": [
      "TRAIN\n",
      "\n",
      "              precision    recall  f1-score   support\n",
      "\n",
      "           0       0.90      0.83      0.86      3771\n",
      "           1       0.64      0.77      0.70      1479\n",
      "\n",
      "    accuracy                           0.81      5250\n",
      "   macro avg       0.77      0.80      0.78      5250\n",
      "weighted avg       0.83      0.81      0.82      5250\n",
      "\n",
      "TEST\n",
      "\n",
      "              precision    recall  f1-score   support\n",
      "\n",
      "           0       0.82      0.76      0.79      1616\n",
      "           1       0.49      0.59      0.53       634\n",
      "\n",
      "    accuracy                           0.71      2250\n",
      "   macro avg       0.66      0.67      0.66      2250\n",
      "weighted avg       0.73      0.71      0.72      2250\n",
      "\n",
      "CONFUSION MATRIX\n",
      "\n",
      "col_0              0    1\n",
      "Credit Default           \n",
      "0               1221  395\n",
      "1                260  374\n",
      "CPU times: user 8.57 s, sys: 1.07 s, total: 9.64 s\n",
      "Wall time: 1.72 s\n"
     ]
    }
   ],
   "source": [
    "%%time\n",
    "\n",
    "frozen_params = {\n",
    "     'class_weights':[1, disbalance], \n",
    "     'silent':True,\n",
    "     'random_state':21,\n",
    "     'cat_features':NEW_CAT_FEATURE_NAMES,\n",
    "     'eval_metric':'F1',\n",
    "     'early_stopping_rounds':20\n",
    "}\n",
    "\n",
    "final_model = catb.CatBoostClassifier(**frozen_params,\n",
    "                                      iterations=300,\n",
    "                                      max_depth=7,\n",
    "                                      reg_lambda=0.5)\n",
    "\n",
    "final_model.fit(X_train[important_features_top], y_train)\n",
    "\n",
    "evaluate_preds(final_model, X_train[important_features_top], X_test[important_features_top], y_train, y_test)\n"
   ]
  },
  {
   "cell_type": "code",
   "execution_count": null,
   "metadata": {},
   "outputs": [],
   "source": []
  }
 ],
 "metadata": {
  "kernelspec": {
   "display_name": "Python 3",
   "language": "python",
   "name": "python3"
  },
  "language_info": {
   "codemirror_mode": {
    "name": "ipython",
    "version": 3
   },
   "file_extension": ".py",
   "mimetype": "text/x-python",
   "name": "python",
   "nbconvert_exporter": "python",
   "pygments_lexer": "ipython3",
   "version": "3.8.5"
  }
 },
 "nbformat": 4,
 "nbformat_minor": 4
}
